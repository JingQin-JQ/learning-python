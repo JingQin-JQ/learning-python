{
 "cells": [
  {
   "cell_type": "code",
   "execution_count": 14,
   "metadata": {
    "collapsed": false,
    "deletable": true,
    "editable": true
   },
   "outputs": [
    {
     "name": "stdout",
     "output_type": "stream",
     "text": [
      "10\n",
      "161 182 161 154 176 170 167 171 170 174\n",
      "169.375\n"
     ]
    }
   ],
   "source": [
    "from __future__ import division\n",
    "\n",
    "def average(array):\n",
    "    # your code goes here\n",
    "    s = set(array)\n",
    "    print sum(s)/len(s)\n",
    "n = raw_input()    \n",
    "h = map(int, raw_input().split())\n",
    "\n",
    "average(h)    "
   ]
  },
  {
   "cell_type": "code",
   "execution_count": 11,
   "metadata": {
    "collapsed": false,
    "deletable": true,
    "editable": true
   },
   "outputs": [
    {
     "name": "stdout",
     "output_type": "stream",
     "text": [
      "10\n",
      "161 182 161 154 176 170 167 171 170 174\n",
      "169.375\n"
     ]
    }
   ],
   "source": [
    "\n",
    "from __future__ import division\n",
    "\n",
    "number = int(raw_input())\n",
    "heights = map(int, raw_input().split())\n",
    "assert len(heights) == number\n",
    "heights = set(heights)\n",
    "\n",
    "print '{:.3f}'.format(sum(heights) / len(heights))\n"
   ]
  },
  {
   "cell_type": "code",
   "execution_count": 15,
   "metadata": {
    "collapsed": false,
    "deletable": true,
    "editable": true
   },
   "outputs": [
    {
     "name": "stdout",
     "output_type": "stream",
     "text": [
      "4\n",
      "2 4 5 9\n",
      "4\n",
      "2 4 11 12\n",
      "5\n",
      "9\n",
      "11\n",
      "12\n"
     ]
    }
   ],
   "source": [
    "M=int(raw_input())\n",
    "list1=map(int,raw_input().strip().split(\" \"))\n",
    "N=int(raw_input())\n",
    "list2=map(int,raw_input().strip().split(\" \"))\n",
    "set1=set(list1)\n",
    "set2=set(list2)\n",
    "l1=(set1.difference(set2))\n",
    "l2=(set2.difference(set1))\n",
    "l3=sorted(l1.union(l2))\n",
    "for i in l3:\n",
    "    print i"
   ]
  },
  {
   "cell_type": "code",
   "execution_count": 16,
   "metadata": {
    "collapsed": false,
    "deletable": true,
    "editable": true
   },
   "outputs": [
    {
     "name": "stdout",
     "output_type": "stream",
     "text": [
      "3 2\n",
      "1 5 3\n",
      "3 1\n",
      "5 7\n",
      "1\n"
     ]
    }
   ],
   "source": [
    "\n",
    "(n, m) = map(int, raw_input().split())\n",
    "\n",
    "array = map(int, raw_input().split())\n",
    "\n",
    "\n",
    "A = set(map(int, raw_input().split()))\n",
    "\n",
    "\n",
    "B = set(map(int, raw_input().split()))\n",
    "\n",
    "\n",
    "happiness = 0\n",
    "\n",
    "for i in array:\n",
    "    if i in A:\n",
    "        happiness += 1\n",
    "    elif i in B:\n",
    "        happiness -= 1\n",
    "\n",
    "print happiness"
   ]
  },
  {
   "cell_type": "code",
   "execution_count": 24,
   "metadata": {
    "collapsed": false,
    "deletable": true,
    "editable": true
   },
   "outputs": [
    {
     "name": "stdout",
     "output_type": "stream",
     "text": [
      "7\n",
      "UK\n",
      "China\n",
      "France\n",
      "UK\n",
      "USA\n",
      "Japan\n",
      "China\n",
      "set(['Japan', 'China', 'USA', 'UK', 'France'])\n",
      "5\n"
     ]
    }
   ],
   "source": [
    "n = int(raw_input())\n",
    "s = set()\n",
    "for i in range(n):\n",
    "    s.add(raw_input())\n",
    "    \n",
    "print len(s)\n",
    "\n",
    "\n"
   ]
  },
  {
   "cell_type": "code",
   "execution_count": 33,
   "metadata": {
    "collapsed": false,
    "deletable": true,
    "editable": true
   },
   "outputs": [
    {
     "name": "stdout",
     "output_type": "stream",
     "text": [
      "9\n",
      "1 2 3 4 5 6 7 8 9 \n",
      "3\n",
      "pop\n",
      "remove 8\n",
      "discard 8\n",
      "set([2, 3, 4, 5, 6, 7, 9])\n"
     ]
    }
   ],
   "source": [
    "def perform(s, cmd):\n",
    "    if cmd[0] == 'pop':\n",
    "        s.pop()\n",
    "    elif cmd[0] == 'remove':\n",
    "        s.remove(int(cmd[1]))\n",
    "    elif cmd[0] == 'discard':\n",
    "        s.discard(int(cmd[1]))\n",
    "   \n",
    "    return s\n",
    "\n",
    "n = input()\n",
    "s = set(map(int, raw_input().split())) \n",
    "m = input()\n",
    "for __ in range(m):\n",
    "        cmd = raw_input().split()\n",
    "        perform(s, cmd)\n",
    "\n",
    "print sum(s)\n",
    "\n",
    "\n",
    "def perform(s, cmd):\n",
    "    if cmd[0] == 'pop':\n",
    "        s.pop()\n",
    "    elif cmd[0] == 'remove':\n",
    "        s.remove(int(cmd[1]))\n",
    "    elif cmd[0] == 'discard':\n",
    "        s.discard(int(cmd[1]))\n",
    "   \n",
    "    return s\n",
    "   "
   ]
  },
  {
   "cell_type": "code",
   "execution_count": 44,
   "metadata": {
    "collapsed": false,
    "deletable": true,
    "editable": true
   },
   "outputs": [
    {
     "name": "stdout",
     "output_type": "stream",
     "text": [
      "9\n",
      "1 2 3 4 5 6 7 8 9\n",
      "10\n",
      "10 1 2 3 11 21 55 6 8\n",
      "set([1, 2, 3, 4, 5, 6, 7, 8, 9, 10, 11, 21, 55])\n",
      "13\n"
     ]
    }
   ],
   "source": [
    "eng = input()\n",
    "s_eng = set(map(int, raw_input().split())) \n",
    "fran = input()\n",
    "s_fran = set(map(int, raw_input().split()))\n",
    "\n",
    "\n",
    "print len(s_eng.union(s_fran))\n"
   ]
  },
  {
   "cell_type": "code",
   "execution_count": 45,
   "metadata": {
    "collapsed": false,
    "deletable": true,
    "editable": true
   },
   "outputs": [
    {
     "name": "stdout",
     "output_type": "stream",
     "text": [
      "9\n",
      "1 2 3 4 5 6 7 8 9\n",
      "10\n",
      "10 1 2 3 11 21 55 6 8\n",
      "5\n"
     ]
    }
   ],
   "source": [
    "eng = input()\n",
    "s_eng = set(map(int, raw_input().split())) \n",
    "fran = input()\n",
    "s_fran = set(map(int, raw_input().split()))\n",
    "\n",
    "\n",
    "print len(s_eng.intersection(s_fran))"
   ]
  },
  {
   "cell_type": "code",
   "execution_count": 46,
   "metadata": {
    "collapsed": false,
    "deletable": true,
    "editable": true
   },
   "outputs": [
    {
     "name": "stdout",
     "output_type": "stream",
     "text": [
      "9\n",
      "1 2 3 4 5 6 7 8 9\n",
      "10\n",
      "10 1 2 3 11 21 55 6 8\n",
      "4\n"
     ]
    }
   ],
   "source": [
    "eng = input()\n",
    "s_eng = set(map(int, raw_input().split())) \n",
    "fran = input()\n",
    "s_fran = set(map(int, raw_input().split()))\n",
    "\n",
    "\n",
    "print len(s_eng.difference(s_fran))"
   ]
  },
  {
   "cell_type": "code",
   "execution_count": 47,
   "metadata": {
    "collapsed": false,
    "deletable": true,
    "editable": true
   },
   "outputs": [
    {
     "name": "stdout",
     "output_type": "stream",
     "text": [
      "9\n",
      "1 2 3 4 5 6 7 8 9\n",
      "10\n",
      "10 1 2 3 11 21 55 6 8\n",
      "8\n"
     ]
    }
   ],
   "source": [
    "eng = input()\n",
    "s_eng = set(map(int, raw_input().split())) \n",
    "fran = input()\n",
    "s_fran = set(map(int, raw_input().split()))\n",
    "\n",
    "\n",
    "print len(s_eng.symmetric_difference(s_fran))\n"
   ]
  },
  {
   "cell_type": "code",
   "execution_count": 9,
   "metadata": {
    "collapsed": false,
    "deletable": true,
    "editable": true
   },
   "outputs": [
    {
     "name": "stdout",
     "output_type": "stream",
     "text": [
      "2 \n",
      "33 55\n",
      "4\n",
      "intersection_update 2\n",
      "34 55\n",
      "intersection_update set([55])\n",
      "update 2\n",
      "23 45\n",
      "update set([23, 45, 55])\n",
      "symmetric_difference_update 2\n",
      "45 67\n",
      "symmetric_difference_update set([67, 23, 55])\n",
      "difference_update 2\n",
      "23 78\n",
      "difference_update set([67, 55])\n",
      "122\n"
     ]
    }
   ],
   "source": [
    "\n",
    "\n",
    "\n",
    "    \n",
    "length = int(raw_input())\n",
    "A = set(map(int, raw_input().split()))\n",
    "N = int(raw_input())\n",
    "\n",
    "for i in range(N):\n",
    "    (operation_name, other_set_length) = raw_input().split()\n",
    "    other_set = set(map(int, raw_input().split()))\n",
    "\n",
    "    if operation_name == 'intersection_update':\n",
    "        A.intersection_update(other_set)\n",
    "        print 'intersection_update',A\n",
    "    elif operation_name == 'update':\n",
    "        A.update(other_set)\n",
    "        print 'update', A\n",
    "    elif operation_name == 'symmetric_difference_update':\n",
    "        A.symmetric_difference_update(other_set)\n",
    "        print  'symmetric_difference_update', A\n",
    "    elif operation_name == 'difference_update':\n",
    "        A.difference_update(other_set)\n",
    "        print 'difference_update', A\n",
    "\n",
    "print sum(A)"
   ]
  },
  {
   "cell_type": "code",
   "execution_count": 51,
   "metadata": {
    "collapsed": false,
    "deletable": true,
    "editable": true
   },
   "outputs": [
    {
     "name": "stdout",
     "output_type": "stream",
     "text": [
      "5\n",
      "1 2 3 6 5 4 4 2 5 3 6 1 6 5 3 2 4 1 2 5 1 4 3 6 8 4 3 1 5 6 2 \n",
      "[1, 2, 3, 6, 5, 4, 4, 2, 5, 3, 6, 1, 6, 5, 3, 2, 4, 1, 2, 5, 1, 4, 3, 6, 8, 4, 3, 1, 5, 6, 2]\n",
      "set([1, 2, 3, 4, 5, 6, 8])\n",
      "8\n"
     ]
    }
   ],
   "source": [
    "K = int(raw_input())\n",
    "room_numbers = map(int, raw_input().split())\n",
    "rooms = set(room_numbers)\n",
    "\n",
    "print int((sum(rooms) * K - sum(room_numbers)) /(K-1))"
   ]
  },
  {
   "cell_type": "code",
   "execution_count": 57,
   "metadata": {
    "collapsed": false,
    "deletable": true,
    "editable": true
   },
   "outputs": [
    {
     "name": "stdout",
     "output_type": "stream",
     "text": [
      "1\n",
      "5\n",
      "1 2 3 5 6\n",
      "9\n",
      "9 8 5 6 3 2 1 4 7\n",
      "set(['1', '3', '2', '5', '6'])\n",
      "set(['1', '3', '2', '5', '4', '7', '6', '9', '8'])\n",
      "set(['1', '3', '2', '5', '6'])\n",
      "True\n"
     ]
    }
   ],
   "source": [
    "for i in range(int(raw_input())): #More than 4 lines will result in 0 score. Blank lines won't be counted.  \n",
    "    a = int(raw_input()); A = set(raw_input().split())\n",
    "    b = int(raw_input()); B = set(raw_input().split())\n",
    "    print A\n",
    "    print B\n",
    "    print A.intersection(B)\n",
    "    print A.issubset(B)"
   ]
  },
  {
   "cell_type": "code",
   "execution_count": 59,
   "metadata": {
    "collapsed": false,
    "deletable": true,
    "editable": true
   },
   "outputs": [
    {
     "name": "stdout",
     "output_type": "stream",
     "text": [
      "1 2 3 4 5 6 7 8 9 10 11 12 23 45 84 78\n",
      "2\n",
      "1 2 3 4 5\n",
      "100 11 12\n",
      "False\n"
     ]
    }
   ],
   "source": [
    "A = set(raw_input().split())\n",
    "n = int(raw_input())\n",
    "supe = True\n",
    "for i in range(n):\n",
    "    B = set(raw_input().split())\n",
    "    if not A.issuperset(B):\n",
    "        supe = False\n",
    "        break\n",
    "        \n",
    "print supe\n",
    "\n",
    "\n"
   ]
  }
 ],
 "metadata": {
  "kernelspec": {
   "display_name": "Python 2",
   "language": "python",
   "name": "python2"
  },
  "language_info": {
   "codemirror_mode": {
    "name": "ipython",
    "version": 2
   },
   "file_extension": ".py",
   "mimetype": "text/x-python",
   "name": "python",
   "nbconvert_exporter": "python",
   "pygments_lexer": "ipython2",
   "version": "2.7.10"
  }
 },
 "nbformat": 4,
 "nbformat_minor": 2
}
