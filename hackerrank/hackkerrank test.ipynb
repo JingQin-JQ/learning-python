{
 "cells": [
  {
   "cell_type": "code",
   "execution_count": 11,
   "metadata": {
    "collapsed": false
   },
   "outputs": [
    {
     "name": "stdout",
     "output_type": "stream",
     "text": [
      "3\n",
      "07895462130\n",
      "+91 78954 62130\n",
      "07895462130\n",
      "+91 78954 62130\n",
      "07895462130\n",
      "+91 78954 62130\n"
     ]
    }
   ],
   "source": [
    "N = int(raw_input())\n",
    "for _ in range(N):\n",
    "    stri = raw_input()\n",
    "    S = \"+91 \"+stri[-10:-5]+\" \"+stri[-5:]\n",
    "    print S"
   ]
  },
  {
   "cell_type": "code",
   "execution_count": 10,
   "metadata": {
    "collapsed": false
   },
   "outputs": [
    {
     "name": "stdout",
     "output_type": "stream",
     "text": [
      "3\n",
      "07895462130\n",
      "919875641230\n",
      "9195969878\n",
      "+91 78954 62130\n",
      "+91 91959 69878\n",
      "+91 98756 41230\n"
     ]
    }
   ],
   "source": [
    "\n",
    "def fun(l):\n",
    "    for stri in l:\n",
    "        S = \"+91 \"+ stri[-10:-5]+\" \"+stri[-5:]\n",
    "        List.append(S)\n",
    "    return List\n",
    "\n",
    "def sort_phone(l):\n",
    "    print '\\n'.join(sorted(l))\n",
    "\n",
    "\n",
    "l = [raw_input() for _ in range(int(input()))]\n",
    "List = []\n",
    "sort_phone(fun(l))"
   ]
  },
  {
   "cell_type": "code",
   "execution_count": 22,
   "metadata": {
    "collapsed": false
   },
   "outputs": [
    {
     "name": "stdout",
     "output_type": "stream",
     "text": [
      "4\n",
      "73\n",
      "67\n",
      "38\n",
      "33\n",
      "75\n",
      "67\n",
      "40\n",
      "33\n"
     ]
    }
   ],
   "source": [
    "import sys\n",
    "\n",
    "def solve(grades):\n",
    "    results = []\n",
    "    i = 0\n",
    "    for i in range(len(grades)):\n",
    "        if grades[i]> 37 and (grades[i])%5 >= 3:\n",
    "            results.append(((grades[i])/5+1)*5)\n",
    "            \n",
    "        else:\n",
    "            results.append(grades[i])\n",
    "    return results\n",
    "        \n",
    "n = int(raw_input().strip())\n",
    "grades = []\n",
    "grades_i = 0\n",
    "for grades_i in xrange(n):\n",
    "    grades_t = int(raw_input().strip())\n",
    "    grades.append(grades_t)\n",
    "result = solve(grades)\n",
    "print \"\\n\".join(map(str, result))"
   ]
  },
  {
   "cell_type": "code",
   "execution_count": 16,
   "metadata": {
    "collapsed": false
   },
   "outputs": [
    {
     "data": {
      "text/plain": [
       "11"
      ]
     },
     "execution_count": 16,
     "metadata": {},
     "output_type": "execute_result"
    }
   ],
   "source": [
    "57/5"
   ]
  }
 ],
 "metadata": {
  "kernelspec": {
   "display_name": "Python 2",
   "language": "python",
   "name": "python2"
  },
  "language_info": {
   "codemirror_mode": {
    "name": "ipython",
    "version": 2
   },
   "file_extension": ".py",
   "mimetype": "text/x-python",
   "name": "python",
   "nbconvert_exporter": "python",
   "pygments_lexer": "ipython2",
   "version": "2.7.10"
  }
 },
 "nbformat": 4,
 "nbformat_minor": 2
}
