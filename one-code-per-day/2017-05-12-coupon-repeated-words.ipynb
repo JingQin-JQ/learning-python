{
 "cells": [
  {
   "cell_type": "code",
   "execution_count": 4,
   "metadata": {
    "collapsed": false,
    "deletable": true,
    "editable": true
   },
   "outputs": [
    {
     "name": "stdout",
     "output_type": "stream",
     "text": [
      "4\n",
      "6\n",
      "coupon[ 0 ]: 0AMCX8\n",
      "coupon[ 1 ]: PAWZTJ\n",
      "coupon[ 2 ]: O959UR\n",
      "coupon[ 3 ]: 5KZYO0\n"
     ]
    }
   ],
   "source": [
    "# import string\n",
    "# string.letters ='ABCDEFGHIJKLMNOPQRSTUVWXYZ0123456789'\n",
    "# letters ='ABCDEFGHIJKLMNOPQRSTUVWXYZ0123456789'\n",
    "\n",
    "#  random.choice returns a single, random element from a sequence.\n",
    "\n",
    "import random\n",
    "random.choice(string.letters)\n",
    "coupon = []\n",
    "N = int(raw_input())\n",
    "length =int(raw_input())\n",
    "for i in range(N):\n",
    "    coupon.append(''.join([random.choice('ABCDEFGHIJKLMNOPQRSTUVWXYZ0123456789') for _ in range(length)]))\n",
    "    # 'join' convert a list of characters into a string\n",
    "    # coupon[i] : IndexError: list assignment index out of range\n",
    "    # append add a new element to the end of the list\n",
    "\n",
    "\n",
    "    print \"coupon[\",i,\"]:\",coupon[i]\n",
    "  \n",
    "    "
   ]
  },
  {
   "cell_type": "code",
   "execution_count": 6,
   "metadata": {
    "collapsed": false,
    "deletable": true,
    "editable": true
   },
   "outputs": [
    {
     "name": "stdout",
     "output_type": "stream",
     "text": [
      "I am a test file. Maybe someday, he will promote me to a real file.\n",
      "Man, I long to be a real file and hang out with all my new real file friends.\n",
      "{'and': 1, 'someday': 1, 'all': 1, 'be': 1, 'am': 1, 'file': 4, 'out': 1, 'friends': 1, 'long': 1, 'to': 2, 'test': 1, 'new': 1, 'Man': 1, 'real': 3, 'me': 1, 'I': 2, 'Maybe': 1, 'hang': 1, 'promote': 1, 'with': 1, 'he': 1, 'a': 3, 'will': 1, 'my': 1}\n"
     ]
    }
   ],
   "source": [
    "\n",
    "# add some text in \"test.txt\"  \n",
    "f = open(\"test.txt\",\"w\") \n",
    "f.write(\"I am a test file. Maybe someday, he will promote me to a real file.\\n\")\n",
    "f.write(\"Man, I long to be a real file \")\n",
    "f.write(\"and hang out with all my new real file friends.\")\n",
    "f.close()\n",
    "\n",
    "# read file and get rid of \",.\"\n",
    "f = open('test.txt', 'r')\n",
    "# print f.read()  # with print here nothing will work after\n",
    "lines =f.read()\n",
    "print lines\n",
    "\n",
    "# \n",
    "for ch in [',','.']:# get rid of \",\" and \".\" in the file.\n",
    "    if ch in lines:\n",
    "        lines=lines.replace(ch,' ') \n",
    "contents = lines.split()\n",
    "        \n",
    "# count repeated words\n",
    "d = {}\n",
    "for content in contents:\n",
    "    if content not in d.keys():\n",
    "        d[content] = 1\n",
    "    else:\n",
    "        d[content] +=1     \n",
    "print d\n",
    "f.close()\n"
   ]
  },
  {
   "cell_type": "code",
   "execution_count": 20,
   "metadata": {
    "collapsed": false
   },
   "outputs": [
    {
     "data": {
      "text/plain": [
       "True"
      ]
     },
     "execution_count": 20,
     "metadata": {},
     "output_type": "execute_result"
    }
   ],
   "source": [
    "d = {'1':'a', '2':'b'}\n",
    "\n",
    "'1' in d\n",
    "\n"
   ]
  },
  {
   "cell_type": "code",
   "execution_count": null,
   "metadata": {
    "collapsed": true
   },
   "outputs": [],
   "source": [
    "l = {}\n",
    "for content in contents:\n",
    "    if content not in l:\n",
    "        l[content] = 1\n",
    "    else:\n",
    "        l[content] +=1     \n",
    "print l"
   ]
  },
  {
   "cell_type": "code",
   "execution_count": null,
   "metadata": {
    "collapsed": true
   },
   "outputs": [],
   "source": [
    "collections.Counter"
   ]
  }
 ],
 "metadata": {
  "kernelspec": {
   "display_name": "Python 2",
   "language": "python",
   "name": "python2"
  },
  "language_info": {
   "codemirror_mode": {
    "name": "ipython",
    "version": 2
   },
   "file_extension": ".py",
   "mimetype": "text/x-python",
   "name": "python",
   "nbconvert_exporter": "python",
   "pygments_lexer": "ipython2",
   "version": "2.7.10"
  }
 },
 "nbformat": 4,
 "nbformat_minor": 2
}
