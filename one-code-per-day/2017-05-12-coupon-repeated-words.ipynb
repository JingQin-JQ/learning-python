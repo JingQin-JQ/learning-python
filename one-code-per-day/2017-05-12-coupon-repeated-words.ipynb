{
 "cells": [
  {
   "cell_type": "code",
   "execution_count": 54,
   "metadata": {
    "collapsed": false,
    "deletable": true,
    "editable": true
   },
   "outputs": [
    {
     "name": "stdout",
     "output_type": "stream",
     "text": [
      "4\n",
      "6\n",
      "coupon[ 0 ]: GRUQ9Z\n",
      "coupon[ 1 ]: 0BNCRQ\n",
      "coupon[ 2 ]: 663PTT\n",
      "coupon[ 3 ]: RJ705R\n"
     ]
    }
   ],
   "source": [
    "import string\n",
    "string.letters ='ABCDEFGHIJKLMNOPQRSTUVWXYZ0123456789'\n",
    "\n",
    "#  random.choice returns a single, random element from a sequence.\n",
    "\n",
    "import random\n",
    "random.choice(string.letters)\n",
    "coupon = []\n",
    "N = int(raw_input())\n",
    "length =int(raw_input())\n",
    "for i in range(N):\n",
    "    coupon.append(''.join([random.choice(string.letters) for _ in range(length)]))\n",
    "    # 'join' convert a list of characters into a string\n",
    "    # coupon[i] : IndexError: list assignment index out of range\n",
    "    # append add a new element to the end of the list\n",
    "\n",
    "\n",
    "    print \"coupon[\",i,\"]:\",coupon[i]\n",
    "  \n",
    "    "
   ]
  },
  {
   "cell_type": "code",
   "execution_count": 132,
   "metadata": {
    "collapsed": false,
    "deletable": true,
    "editable": true
   },
   "outputs": [
    {
     "name": "stdout",
     "output_type": "stream",
     "text": [
      "I am a test file. Maybe someday, he will promote me to a real file.Man, I long to be a real file and hang out with all my new real file friends.\n",
      "{'and': 1, 'someday': 1, 'all': 1, 'be': 1, 'am': 1, 'file': 4, 'out': 1, 'friends': 1, 'long': 1, 'to': 2, 'test': 1, 'new': 1, 'Man': 1, 'real': 3, 'me': 1, 'I': 2, 'Maybe': 1, 'hang': 1, 'promote': 1, 'with': 1, 'he': 1, 'a': 3, 'will': 1, 'my': 1}\n"
     ]
    }
   ],
   "source": [
    "\n",
    "           \n",
    "f = open(\"test.txt\",\"w\") #opens file with name of \"test.txt\"\n",
    "\n",
    "f.write(\"I am a test file. Maybe someday, he will promote me to a real file.\")\n",
    "\n",
    "f.write(\"Man, I long to be a real file \")\n",
    "\n",
    "f.write(\"and hang out with all my new real file friends.\")\n",
    "f.close()\n",
    "\n",
    "\n",
    "\n",
    "f = open('test.txt', 'r')\n",
    "\n",
    "# print f.read()  # with print here nothing will work after\n",
    "\n",
    "lines =f.read()\n",
    "print lines\n",
    "for ch in [',','.']:# get rid of \",\" and \".\" in the file.\n",
    "    if ch in lines:\n",
    "        lines=lines.replace(ch,' ')\n",
    "\n",
    "\n",
    "\n",
    "contents = lines.split()\n",
    "lis = {}\n",
    "for content in contents:\n",
    "    if content not in lis.keys():\n",
    "        lis[content] = 1\n",
    "    else:\n",
    "        lis[content] +=1     \n",
    "print lis\n",
    "f.close()\n"
   ]
  }
 ],
 "metadata": {
  "kernelspec": {
   "display_name": "Python 2",
   "language": "python",
   "name": "python2"
  },
  "language_info": {
   "codemirror_mode": {
    "name": "ipython",
    "version": 2
   },
   "file_extension": ".py",
   "mimetype": "text/x-python",
   "name": "python",
   "nbconvert_exporter": "python",
   "pygments_lexer": "ipython2",
   "version": "2.7.10"
  }
 },
 "nbformat": 4,
 "nbformat_minor": 2
}
