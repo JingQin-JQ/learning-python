{
 "cells": [
  {
   "cell_type": "code",
   "execution_count": 29,
   "metadata": {
    "collapsed": false,
    "deletable": true,
    "editable": true
   },
   "outputs": [
    {
     "name": "stdout",
     "output_type": "stream",
     "text": [
      "filtered_words.txt\n",
      "test.txt\n",
      "Freedom\n"
     ]
    }
   ],
   "source": [
    "# -*- coding: utf-8 -*-\n",
    "\n",
    "'''\n",
    "敏感词文本文件 filtered_words.txt，\n",
    "里面的内容为以下内容（\"北京 程序员 公务员 领导 牛比 牛逼 你娘 你妈 love sex jiangge\"，\n",
    "当用户输入敏感词语时，则打印出 Freedom，否则打印出 Human Rights。\n",
    "\n",
    "2017-05-15 \n",
    "Jing Qin\n",
    "\n",
    "'''\n",
    "\n",
    "def determine(filtered_file,test_file):\n",
    "    # read file and save it as a sensitive_words list\n",
    "    with open(filtered_file, 'r') as f:\n",
    "        lines =f.read()\n",
    "        sensitive_words = lines.split()\n",
    "\n",
    "        #read from input, if there is word in the sensitive_words list print \"Freedom\",otherwise print\"Human Rights\"\n",
    "    with open(test_file, 'r') as t:\n",
    "        lines =t.read()\n",
    "        test_words = lines.split()\n",
    "       \n",
    "        sensitive = False\n",
    "        for ch in test_words:\n",
    "            if ch in sensitive_words:\n",
    "                sensitive = True\n",
    "                break\n",
    "        if sensitive:\n",
    "            print \"Freedom\"\n",
    "        else:\n",
    "            print \"Human Rights\"\n",
    "        \n",
    "\n",
    "if __name__ == '__main__':\n",
    "    filtered_file = raw_input()\n",
    "    test_file = raw_input()\n",
    "    determine(filtered_file,test_file)   \n",
    "\n",
    "        "
   ]
  },
  {
   "cell_type": "code",
   "execution_count": null,
   "metadata": {
    "collapsed": true
   },
   "outputs": [],
   "source": []
  },
  {
   "cell_type": "code",
   "execution_count": 15,
   "metadata": {
    "collapsed": false
   },
   "outputs": [
    {
     "name": "stdout",
     "output_type": "stream",
     "text": [
      "Human Rights\n",
      "Human Rights\n"
     ]
    }
   ],
   "source": [
    "even = [2,4,6,8]\n",
    "sensitive = False\n",
    "for i in range(10):\n",
    "    if i in even:\n",
    "        sensitive = True\n",
    "        break\n",
    "    if sensitive:\n",
    "        print \"Freedom\"\n",
    "    else:\n",
    "        print \"Human Rights\"\n",
    "        "
   ]
  },
  {
   "cell_type": "code",
   "execution_count": null,
   "metadata": {
    "collapsed": true
   },
   "outputs": [],
   "source": [
    "even = [2,4,6,8]\n",
    "sensitive = False\n",
    "while "
   ]
  },
  {
   "cell_type": "code",
   "execution_count": 33,
   "metadata": {
    "collapsed": false,
    "deletable": true,
    "editable": true
   },
   "outputs": [
    {
     "name": "stdout",
     "output_type": "stream",
     "text": [
      "filtered_words.txt\n",
      "test.txt\n",
      "i like you ** \n"
     ]
    }
   ],
   "source": [
    "# -*- coding: utf-8 -*-\n",
    "\n",
    "'''\n",
    "敏感词文本文件 filtered_words.txt，\n",
    "里面的内容为以下内容（\"北京 程序员 公务员 领导 牛比 牛逼 你娘 你妈 love sex jiangge\"，\n",
    "当用户输入敏感词语，则用 星号 * 替换，例如当用户输入「北京是个好城市」，则变成「**是个好城市」。\n",
    "\n",
    "2017-05-15 \n",
    "Jing Qin\n",
    "\n",
    "'''\n",
    "import string\n",
    "    \n",
    "def determine(filtered_file,test_file):\n",
    "    # read file and save it as a sensitive_words list\n",
    "    with open(filtered_file, 'r') as f:\n",
    "        lines =f.read()\n",
    "        sensitive_words = lines.split()\n",
    "\n",
    "        #read from input, if there is word in the sensitive_words list print \"Freedom\",otherwise print\"Human Rights\"\n",
    "    with open(test_file, 'r') as t:\n",
    "        lines =t.read()\n",
    "        test_words = lines.split()\n",
    "        new_line = \"\"\n",
    "    \n",
    "        for word in test_words:\n",
    "            chinese = False\n",
    "            len_word = len(word)\n",
    "            replaced_word = word\n",
    "            \n",
    "            if word in sensitive_words:\n",
    "                for ch in word:\n",
    "                    if ch  not in string.ascii_letters:\n",
    "                        chinese = True\n",
    "                        break\n",
    "                if chinese:\n",
    "                    replaced_word = (len_word/3)*\"*\"\n",
    "                else:\n",
    "                    replaced_word = len_word*\"*\"\n",
    "    \n",
    "            new_line =new_line + replaced_word +\" \"\n",
    "        print new_line\n",
    "        \n",
    "\n",
    "if __name__ == '__main__':\n",
    "    filtered_file = raw_input()\n",
    "    test_file = raw_input()\n",
    "    determine(filtered_file,test_file)    "
   ]
  },
  {
   "cell_type": "code",
   "execution_count": null,
   "metadata": {
    "collapsed": true
   },
   "outputs": [],
   "source": []
  },
  {
   "cell_type": "code",
   "execution_count": null,
   "metadata": {
    "collapsed": true
   },
   "outputs": [],
   "source": []
  },
  {
   "cell_type": "code",
   "execution_count": null,
   "metadata": {
    "collapsed": true,
    "deletable": true,
    "editable": true
   },
   "outputs": [],
   "source": [
    "    for word in words:\n",
    "        chinese = False\n",
    "        l = len(word)\n",
    "        \n",
    "        replaced_word = word\n",
    "        \n",
    "        if word in sensitive_words:\n",
    "            for ch in word:\n",
    "                if ch  not in string.ascii_letters:\n",
    "                    chinese = True\n",
    "                    break\n",
    "            if chinese:\n",
    "                replaced_word = (l/3)*\"*\"\n",
    "            else:\n",
    "                replaced_word = l*\"*\"\n",
    "    \n",
    "        new_line =new_line + replaced_word +\" \""
   ]
  },
  {
   "cell_type": "code",
   "execution_count": 84,
   "metadata": {
    "collapsed": false,
    "deletable": true,
    "editable": true
   },
   "outputs": [
    {
     "name": "stdout",
     "output_type": "stream",
     "text": [
      "3\n"
     ]
    }
   ],
   "source": [
    "print len('杯')"
   ]
  },
  {
   "cell_type": "code",
   "execution_count": 40,
   "metadata": {
    "collapsed": false,
    "deletable": true,
    "editable": true
   },
   "outputs": [
    {
     "name": "stdout",
     "output_type": "stream",
     "text": [
      "/Users/jingqin/Github/learning-python/picture-to-char/\n"
     ]
    }
   ],
   "source": [
    "import re\n",
    "pattern = re.compile('(.*\\/).*')\n",
    "# print re.split(pattern,'/Users/jingqin/Github/learning-python/picture-to-char/test.jpeg')\n",
    "\n",
    "\n",
    "print re.findall(pattern,'/Users/jingqin/Github/learning-python/picture-to-char/test.jpeg')[0]\n",
    "# for m in re.finditer(pattern,'one1two2three3four4'):\n",
    "#     print m.group(),\n",
    "\n",
    "### 输出 ###\n",
    "# ['one', 'two', 'three', 'four', ''] "
   ]
  },
  {
   "cell_type": "code",
   "execution_count": 43,
   "metadata": {
    "collapsed": false
   },
   "outputs": [
    {
     "name": "stdout",
     "output_type": "stream",
     "text": [
      "/Users/jingqin/Github/learning-python/picture-to-char\n"
     ]
    }
   ],
   "source": [
    "import os\n",
    "print os.path.dirname(\"/Users/jingqin/Github/learning-python/picture-to-char/test.jpeg\")\n"
   ]
  },
  {
   "cell_type": "code",
   "execution_count": 44,
   "metadata": {
    "collapsed": false
   },
   "outputs": [
    {
     "ename": "SyntaxError",
     "evalue": "invalid syntax (<ipython-input-44-a4b0e8675021>, line 1)",
     "output_type": "error",
     "traceback": [
      "\u001b[0;36m  File \u001b[0;32m\"<ipython-input-44-a4b0e8675021>\"\u001b[0;36m, line \u001b[0;32m1\u001b[0m\n\u001b[0;31m    Users(/jingqin/Github/learning-python/picture-to-char/test.jpeg)\u001b[0m\n\u001b[0m          ^\u001b[0m\n\u001b[0;31mSyntaxError\u001b[0m\u001b[0;31m:\u001b[0m invalid syntax\n"
     ]
    }
   ],
   "source": [
    "/Users/jingqin/Github/learning-python/picture-to-char/test.jpeg"
   ]
  },
  {
   "cell_type": "code",
   "execution_count": null,
   "metadata": {
    "collapsed": true
   },
   "outputs": [],
   "source": []
  }
 ],
 "metadata": {
  "kernelspec": {
   "display_name": "Python 2",
   "language": "python",
   "name": "python2"
  },
  "language_info": {
   "codemirror_mode": {
    "name": "ipython",
    "version": 2
   },
   "file_extension": ".py",
   "mimetype": "text/x-python",
   "name": "python",
   "nbconvert_exporter": "python",
   "pygments_lexer": "ipython2",
   "version": "2.7.10"
  }
 },
 "nbformat": 4,
 "nbformat_minor": 2
}
