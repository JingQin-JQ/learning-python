{
 "cells": [
  {
   "cell_type": "code",
   "execution_count": 6,
   "metadata": {
    "collapsed": false
   },
   "outputs": [],
   "source": [
    "from PIL import Image\n",
    "from PIL import ImageFont\n",
    "from PIL import ImageDraw \n",
    "\n",
    "def add_number():\n",
    "    im = Image.open(\"/Users/jingqin/Github/learning-python/picture-to-char/test.jpeg\")# get a jpeg file\n",
    "    font = ImageFont.truetype('/System/Library/Fonts/Apple Symbols.ttf', 50) #get a font type file,and size \n",
    "    draw = ImageDraw.Draw(im) #get a draw object\n",
    "    w,h = im.size \n",
    "    draw.text((w-50,0), \"8\", (255,0,0), font=font)# locate \"8\" at right-up corner\n",
    "    im.save(\"/Users/jingqin/Github/learning-python/picture-to-char/test_add number.jpeg\", \"jpeg\") \n",
    "\n",
    "if __name__ == '__main__':\n",
    "    add_number()\n"
   ]
  },
  {
   "cell_type": "code",
   "execution_count": 4,
   "metadata": {
    "collapsed": false
   },
   "outputs": [],
   "source": [
    "from PIL import Image as img\n",
    "import os\n",
    "import os.path\n",
    "\n",
    "def run():#get all pictures from folder\n",
    "    imgTypes = ['.png','.jpeg','.bmp','.JPG']\n",
    "    for root, dirs, files in os.walk(\"/Users/jingqin/Github/learning-python/picture-to-char/\"):\n",
    "        for name in files:\n",
    "            if os.path.splitext(name)[1] in imgTypes:\n",
    "                img_file = img.open(\"/Users/jingqin/Github/learning-python/picture-to-char/\" + name)\n",
    "                processImage(img_file,os.path.splitext(name))\n",
    "\n",
    "            \n",
    "def processImage(img,name):# resize pics to 640*1136(or smaller)\n",
    "    img_w,img_h = img.size\n",
    "    # rate of resize\n",
    "    rate = max(img.size[0]/640.0 if img.size[0] > 640 else 0, img.size[1]/1136.0 if img.size[1] > 1136 else 0)\n",
    "    if rate:\n",
    "        img.thumbnail((img.size[0]/rate, img.size[1]/rate))\n",
    "        \n",
    "    img.save(\"/Users/jingqin/Github/learning-python/picture-to-char/\" + name[0]+\"resize\"+\".jpeg\", \"jpeg\")            \n",
    "\n",
    "    \n",
    "if __name__ == '__main__':\n",
    "    run()    "
   ]
  },
  {
   "cell_type": "code",
   "execution_count": 5,
   "metadata": {
    "collapsed": false
   },
   "outputs": [
    {
     "name": "stdout",
     "output_type": "stream",
     "text": [
      "JPEG (340, 270) RGB\n"
     ]
    }
   ],
   "source": [
    "from PIL import Image\n",
    "from PIL import ImageFont\n",
    "from PIL import ImageDraw \n",
    "img = Image.open(\"/Users/jingqin/Github/learning-python/picture-to-char/test.jpeg\")\n",
    "print img.format, img.size, img.mode\n",
    "# draw = ImageDraw.Draw(img)\n",
    "# # font = ImageFont.truetype(<font-file>, <font-size>)\n",
    "# font = ImageFont.truetype(\"sans-serif.ttf\", 16)\n",
    "# # draw.text((x, y),\"Sample Text\",(r,g,b))\n",
    "# draw.text((0, 0),\"Sample Text\",(255,255,255),font=font)\n",
    "# img.save('sample-out.jpg')"
   ]
  },
  {
   "cell_type": "code",
   "execution_count": 3,
   "metadata": {
    "collapsed": false
   },
   "outputs": [],
   "source": [
    "\n",
    "import os, sys\n",
    "from PIL import Image\n",
    "\n",
    "for infile in sys.argv[1:]:\n",
    "    outfile = os.path.splitext(\"/Users/jingqin/Github/learning-python/picture-to-char/test.jpeg\")[0] + \".thumbnail\"\n",
    "    if infile != outfile:\n",
    "        try:\n",
    "            im   = Image.open(\"/Users/jingqin/Github/learning-python/picture-to-char/test.jpeg\")\n",
    "            x, y = im.size\n",
    "            im.thumbnail((x//2, y//2))\n",
    "            im.save(outfile, \"JPEG\")\n",
    "        except IOError:\n",
    "            print \"cannot create thumbnail for\", infile\n"
   ]
  },
  {
   "cell_type": "code",
   "execution_count": 10,
   "metadata": {
    "collapsed": false
   },
   "outputs": [
    {
     "name": "stdout",
     "output_type": "stream",
     "text": [
      "-f JPEG 340x270 RGB\n",
      "/Users/jingqin/Library/Jupyter/runtime/kernel-e1a2a131-7871-48ef-9329-4f6d205b1a4f.json JPEG 340x270 RGB\n"
     ]
    }
   ],
   "source": [
    "for infile in sys.argv[1:]:\n",
    "    try:\n",
    "        im = Image.open(\"/Users/jingqin/Github/learning-python/picture-to-char/test.jpeg\")\n",
    "        print infile, im.format, \"%dx%d\" % im.size, im.mode\n",
    "    except IOError:import Image, ImageDraw\n",
    "\n",
    "im = Image.open(\"lena.pgm\")\n",
    "\n",
    "draw = ImageDraw.Draw(im)\n",
    "draw.line((0, 0) + im.size, fill=128)\n",
    "draw.line((0, im.size[1], im.size[0], 0), fill=128)\n",
    "del draw\n",
    "\n",
    "# write to stdout\n",
    "im.save(sys.stdout, \"PNG\")\n",
    "        pass"
   ]
  },
  {
   "cell_type": "code",
   "execution_count": 7,
   "metadata": {
    "collapsed": false
   },
   "outputs": [
    {
     "name": "stdout",
     "output_type": "stream",
     "text": [
      "cannot convert -f\n",
      "cannot convert /Users/jingqin/Library/Jupyter/runtime/kernel-e1a2a131-7871-48ef-9329-4f6d205b1a4f.json\n"
     ]
    }
   ],
   "source": [
    "import os, sys\n",
    "\n",
    "for infile in sys.argv[1:]:\n",
    "    f, e = os.path.splitext(infile)\n",
    "    outfile = f + \".jpg\"\n",
    "    if infile != outfile:\n",
    "        try:\n",
    "            Image.open(infile).save(outfile)\n",
    "        except IOError:\n",
    "            print \"cannot convert\", infile\n",
    "            \n",
    "            "
   ]
  },
  {
   "cell_type": "code",
   "execution_count": 23,
   "metadata": {
    "collapsed": false
   },
   "outputs": [],
   "source": [
    "from PIL import ImageFilter\n",
    "import random\n",
    "\n",
    "# 随机字母:\n",
    "def rndChar():\n",
    "    return chr(random.randint(65, 90))\n",
    "\n",
    "# 随机颜色1:\n",
    "def rndColor():\n",
    "    return (random.randint(64, 255), random.randint(64, 255), random.randint(64, 255))\n",
    "\n",
    "# 随机颜色2:\n",
    "def rndColor2():\n",
    "    return (random.randint(32, 127), random.randint(32, 127), random.randint(32, 127))\n",
    "\n",
    "# 240 x 60:\n",
    "width = 60 * 4\n",
    "height = 60\n",
    "image = Image.new('RGB', (width, height), (255, 255, 255))\n",
    "# 创建Font对象:\n",
    "font = ImageFont.truetype('Arial.ttf', 36)\n",
    "# 创建Draw对象:\n",
    "draw = ImageDraw.Draw(image)\n",
    "# 填充每个像素:\n",
    "for x in range(width):\n",
    "    for y in range(height):\n",
    "        draw.point((x, y), fill=rndColor())\n",
    "# 输出文字:\n",
    "for t in range(4):\n",
    "    draw.text((60 * t + 10, 10), rndChar(), font=font, fill=rndColor2())\n",
    "# 模糊:\n",
    "image = image.filter(ImageFilter.BLUR)\n",
    "image.save('code.jpg', 'jpeg');\n"
   ]
  }
 ],
 "metadata": {
  "kernelspec": {
   "display_name": "Python 2",
   "language": "python",
   "name": "python2"
  },
  "language_info": {
   "codemirror_mode": {
    "name": "ipython",
    "version": 2
   },
   "file_extension": ".py",
   "mimetype": "text/x-python",
   "name": "python",
   "nbconvert_exporter": "python",
   "pygments_lexer": "ipython2",
   "version": "2.7.10"
  }
 },
 "nbformat": 4,
 "nbformat_minor": 2
}
