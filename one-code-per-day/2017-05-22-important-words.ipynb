{
 "cells": [
  {
   "cell_type": "code",
   "execution_count": 1,
   "metadata": {
    "collapsed": false
   },
   "outputs": [
    {
     "name": "stdout",
     "output_type": "stream",
     "text": [
      "[u'a', u'about', u'above', u'after', u'again', u'against', u'all', u'am', u'an', u'and', u'any', u'are', u\"aren't\", u'as', u'at', u'be', u'because', u'been', u'before', u'being', u'below', u'between', u'both', u'but', u'by', u\"can't\", u'cannot', u'could', u\"couldn't\", u'did', u\"didn't\", u'do', u'does', u\"doesn't\", u'doing', u\"don't\", u'down', u'during', u'each', u'few', u'for', u'from', u'further', u'had', u\"hadn't\", u'has', u\"hasn't\", u'have', u\"haven't\", u'having', u'he', u\"he'd\", u\"he'll\", u\"he's\", u'her', u'here', u\"here's\", u'hers', u'herself', u'him', u'himself', u'his', u'how', u\"how's\", u'i', u\"i'd\", u\"i'll\", u\"i'm\", u\"i've\", u'if', u'in', u'into', u'is', u\"isn't\", u'it', u\"it's\", u'its', u'itself', u\"let's\", u'me', u'more', u'most', u\"mustn't\", u'my', u'myself', u'no', u'nor', u'not', u'of', u'off', u'on', u'once', u'only', u'or', u'other', u'ought', u'our', u'ours', u'ourselves', u'out', u'over', u'own', u'same', u\"shan't\", u'she', u\"she'd\", u\"she'll\", u\"she's\", u'should', u\"shouldn't\", u'so', u'some', u'such', u'than', u'that', u\"that's\", u'the', u'their', u'theirs', u'them', u'themselves', u'then', u'there', u\"there's\", u'these', u'they', u\"they'd\", u\"they'll\", u\"they're\", u\"they've\", u'this', u'those', u'through', u'to', u'too', u'under', u'until', u'up', u'very', u'was', u\"wasn't\", u'we', u\"we'd\", u\"we'll\", u\"we're\", u\"we've\", u'were', u\"weren't\", u'what', u\"what's\", u'when', u\"when's\", u'where', u\"where's\", u'which', u'while', u'who', u\"who's\", u'whom', u'why', u\"why's\", u'with', u\"won't\", u'would', u\"wouldn't\", u'you', u\"you'd\", u\"you'll\", u\"you're\", u\"you've\", u'your', u'yours', u'yourself', u'yourselves']\n"
     ]
    }
   ],
   "source": [
    "from stop_words import get_stop_words\n",
    "stop_words = get_stop_words('en')\n",
    "print stop_words"
   ]
  },
  {
   "cell_type": "code",
   "execution_count": null,
   "metadata": {
    "collapsed": true
   },
   "outputs": [],
   "source": [
    "import os\n",
    "import os.path\n",
    "import sys\n",
    "\n",
    "def run(directory): #get all pictures from folder\n",
    "    '''\n",
    "    Get \"directory\" as arguments of function \"run\",\n",
    "     find all image file which have their type in \"img_types\" , \n",
    "     call function \"process_image\" to resize them.\n",
    "     '''\n",
    "  \n",
    "    for root, dirs, files in os.walk(directory):\n",
    "        for name in files:\n",
    "            if os.path.splitext(name)[1] is \".txt\":\n",
    "                img_file = img.open(directory+\"/\" + name)\n",
    "                process_image(img_file,os.path.splitext(name),directory)\n",
    "\n",
    "def process_image(img,name,directory): # resize pics to 640*1136(or smaller)\n",
    "    '''\n",
    "    Get \"img\", \"name\"and \"directory\" as arguments of function \"process_image\",\n",
    "     resize images to 640*1136 or smaller, and keep their own w/h ratio.\n",
    "     save new images to the same directory with \"_resize\" added to their old name.\n",
    "     '''\n",
    "    img_w,img_h = img.size\n",
    "    rate = max(img_w/640.0 if img_w > 640 else 0, img_h/1136.0 if img_h > 1136 else 0)\n",
    "    # get a rate for resize\n",
    "    if rate:\n",
    "        img.thumbnail((img_w/rate, img_h/rate))\n",
    "    img.save(directory+ name[0]+\"_resize\"+\".jpeg\", \"jpeg\")            \n",
    "\n",
    "if __name__ == '__main__':\n",
    "    run(sys.argv[1])   "
   ]
  },
  {
   "cell_type": "code",
   "execution_count": 66,
   "metadata": {
    "collapsed": false
   },
   "outputs": [
    {
     "name": "stdout",
     "output_type": "stream",
     "text": [
      "\n",
      "bbc .txt :\n",
      "('us', 11)\n",
      "('will', 10)\n",
      "('saudi', 9)\n",
      "('trump', 9)\n",
      "('arabia', 7)\n",
      "('mr', 5)\n",
      "('s', 5)\n",
      "('speech', 5)\n",
      "('muslims', 5)\n",
      "('islamic', 4)\n",
      "\n",
      "filtered_words .txt :\n",
      "('sex', 1)\n",
      "('love', 1)\n",
      "('jiangge', 1)\n",
      "\n",
      "test .txt :\n",
      "('like', 1)\n"
     ]
    }
   ],
   "source": [
    "#!/usr/bin/env python\n",
    "#coding: utf-8\n",
    "import re\n",
    "import os\n",
    "import os.path\n",
    "import sys\n",
    "from collections import Counter\n",
    "from stop_words import get_stop_words\n",
    "\n",
    "# The directory where the target file is located\n",
    "FILE_PATH = '/Users/jingqin/Github/learning-python/one-code-per-day'\n",
    "\n",
    "def getCounter(articlefilesource):\n",
    "    '''Enter an English plain text file that counts the number of words in which the word appears'''\n",
    "    pattern = re.compile('[A-Za-z]+|\\$?\\d+%?$')\n",
    "    with open(articlefilesource) as f:\n",
    "        r = re.findall(pattern, f.read())\n",
    "        return Counter(map(str.lower,r))\n",
    "\n",
    "    #stop_words\n",
    "    stop_words = get_stop_words('en')\n",
    "\n",
    "def run(directory):\n",
    "    for root, dirs, files in os.walk(directory):\n",
    "        for name in files:\n",
    "            if os.path.splitext(name)[1] == '.txt':\n",
    "                print('')\n",
    "                print os.path.splitext(name)[0],\".txt :\"\n",
    "                # Exclude the effect of stopword\n",
    "                each_counter = getCounter(name)\n",
    "                for i in stop_words:\n",
    "                    each_counter[i] = 0\n",
    "                for i in range(10):\n",
    "                    if each_counter.most_common()[i][1] != 0:\n",
    "                        print each_counter.most_common()[i] \n",
    "\n",
    "if __name__ == '__main__':\n",
    "    run(FILE_PATH)"
   ]
  },
  {
   "cell_type": "code",
   "execution_count": null,
   "metadata": {
    "collapsed": true
   },
   "outputs": [],
   "source": []
  },
  {
   "cell_type": "code",
   "execution_count": null,
   "metadata": {
    "collapsed": true
   },
   "outputs": [],
   "source": []
  }
 ],
 "metadata": {
  "kernelspec": {
   "display_name": "Python 2",
   "language": "python",
   "name": "python2"
  },
  "language_info": {
   "codemirror_mode": {
    "name": "ipython",
    "version": 2
   },
   "file_extension": ".py",
   "mimetype": "text/x-python",
   "name": "python",
   "nbconvert_exporter": "python",
   "pygments_lexer": "ipython2",
   "version": "2.7.10"
  }
 },
 "nbformat": 4,
 "nbformat_minor": 2
}
