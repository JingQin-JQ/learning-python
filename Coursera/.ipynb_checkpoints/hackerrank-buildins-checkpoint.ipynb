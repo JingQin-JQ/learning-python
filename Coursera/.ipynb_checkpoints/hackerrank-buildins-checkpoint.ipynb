{
 "cells": [
  {
   "cell_type": "code",
   "execution_count": null,
   "metadata": {
    "collapsed": true
   },
   "outputs": [],
   "source": [
    "N, X = map(int, raw_input().split())\n",
    "\n",
    "subjects = list()\n",
    "\n",
    "for i in range(0, X):\n",
    "    subjects.append(list(map(float, raw_input().split())))\n",
    "\n",
    "students = zip(*subjects)\n",
    "\n",
    "for i in range(0, N):\n",
    "    marks = 0.0\n",
    "    for j in range(0, X):\n",
    "        marks += students[i][j]\n",
    "    print marks / X\n",
    "    \n"
   ]
  },
  {
   "cell_type": "code",
   "execution_count": 7,
   "metadata": {
    "collapsed": false
   },
   "outputs": [
    {
     "name": "stdout",
     "output_type": "stream",
     "text": [
      "print(2 + 3)\n",
      "5\n"
     ]
    }
   ],
   "source": [
    "from __future__ import print_function\n",
    "x = str(raw_input())\n",
    "eval(x)\n"
   ]
  },
  {
   "cell_type": "code",
   "execution_count": 32,
   "metadata": {
    "collapsed": false
   },
   "outputs": [
    {
     "name": "stdout",
     "output_type": "stream",
     "text": [
      "3 2\n",
      "23 53\n",
      "12 26\n",
      "33 2\n",
      "1\n",
      "33 2\n",
      "12 26\n",
      "23 53\n"
     ]
    }
   ],
   "source": [
    "N, M = map(int, raw_input().split())\n",
    "\n",
    "subjects = list()\n",
    "\n",
    "for i in range(0, N):\n",
    "    subjects.append(map(int, raw_input().split()))\n",
    "\n",
    "    \n",
    "indexer = raw_input()\n",
    "\n",
    "s = \" \"\n",
    "for row in sorted(subjects, key=lambda x: x[int(indexer)]):\n",
    "    print (s.join(str(N) for N in row))\n",
    "\n"
   ]
  },
  {
   "cell_type": "code",
   "execution_count": 28,
   "metadata": {
    "collapsed": false
   },
   "outputs": [
    {
     "name": "stdout",
     "output_type": "stream",
     "text": [
      "3 2\n",
      "35 223\n",
      "52 2\n",
      "53 233\n",
      "1\n",
      "52 2\n",
      "35 223\n",
      "53 233\n"
     ]
    }
   ],
   "source": [
    "\n",
    "n, m = raw_input().strip().split()\n",
    "data = []\n",
    "\n",
    "for _ in range(int(n)):\n",
    "    data.append(raw_input().strip().split())\n",
    "\n",
    "indexer = raw_input().strip()\n",
    "data = [map(int, row) for row in data]\n",
    "s = \" \"\n",
    "for row in sorted(data, key=lambda x: x[int(indexer)]):\n",
    "   \n",
    "    print (s.join(str(n) for n in row))"
   ]
  },
  {
   "cell_type": "code",
   "execution_count": null,
   "metadata": {
    "collapsed": true
   },
   "outputs": [],
   "source": [
    "from string import split\n",
    "\n",
    "# https://www.hackerrank.com/challenges/any-or-all\n",
    "\n",
    "def is_palindrome(x):\n",
    "    if int(str(x)[::-1]) is x:\n",
    "        return True\n",
    "    return False\n",
    "\n",
    "def is_positive(x):\n",
    "    if x > 0:\n",
    "        return True\n",
    "    return False\n",
    "\n",
    "n = int(raw_input())\n",
    "nums = map(lambda x: int(x), split(raw_input()))\n",
    "\n",
    "if all([is_positive(x) for x in nums]):\n",
    "    if any([is_palindrome(x) for x in nums]):\n",
    "        print True\n",
    "    else:\n",
    "        print False\n",
    "else:\n",
    "    print False"
   ]
  },
  {
   "cell_type": "code",
   "execution_count": 38,
   "metadata": {
    "collapsed": false
   },
   "outputs": [
    {
     "name": "stdout",
     "output_type": "stream",
     "text": [
      "5\n",
      "12 9 61 5 14 \n"
     ]
    },
    {
     "data": {
      "text/plain": [
       "True"
      ]
     },
     "execution_count": 38,
     "metadata": {},
     "output_type": "execute_result"
    }
   ],
   "source": [
    "from string import split\n",
    "n = int(raw_input())\n",
    "nums = map(lambda x: int(x), split(raw_input()))\n",
    "all([x > 0 for x in nums]) and any([int(str(x)[::-1]) is x for x in nums])\n",
    "    "
   ]
  },
  {
   "cell_type": "code",
   "execution_count": 35,
   "metadata": {
    "collapsed": false
   },
   "outputs": [
    {
     "data": {
      "text/plain": [
       "True"
      ]
     },
     "execution_count": 35,
     "metadata": {},
     "output_type": "execute_result"
    }
   ],
   "source": [
    "all(['a'<'b','b'<'c'])\n"
   ]
  },
  {
   "cell_type": "code",
   "execution_count": 40,
   "metadata": {
    "collapsed": false
   },
   "outputs": [
    {
     "name": "stdout",
     "output_type": "stream",
     "text": [
      "Sorting1234\n",
      "ginortS1324\n"
     ]
    }
   ],
   "source": [
    "from string import ascii_lowercase, ascii_uppercase\n",
    "order = ascii_lowercase + ascii_uppercase + \"1357902468\"\n",
    "print (reduce(lambda x,y: x+y, sorted(raw_input(), key=order.index)))\n"
   ]
  }
 ],
 "metadata": {
  "kernelspec": {
   "display_name": "Python 2",
   "language": "python",
   "name": "python2"
  },
  "language_info": {
   "codemirror_mode": {
    "name": "ipython",
    "version": 2
   },
   "file_extension": ".py",
   "mimetype": "text/x-python",
   "name": "python",
   "nbconvert_exporter": "python",
   "pygments_lexer": "ipython2",
   "version": "2.7.10"
  }
 },
 "nbformat": 4,
 "nbformat_minor": 2
}
