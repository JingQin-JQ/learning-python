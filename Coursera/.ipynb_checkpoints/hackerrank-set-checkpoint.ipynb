{
 "cells": [
  {
   "cell_type": "code",
   "execution_count": 14,
   "metadata": {
    "collapsed": false
   },
   "outputs": [
    {
     "name": "stdout",
     "output_type": "stream",
     "text": [
      "10\n",
      "161 182 161 154 176 170 167 171 170 174\n",
      "169.375\n"
     ]
    }
   ],
   "source": [
    "from __future__ import division\n",
    "\n",
    "def average(array):\n",
    "    # your code goes here\n",
    "    s = set(array)\n",
    "    print sum(s)/len(s)\n",
    "n = raw_input()    \n",
    "h = map(int, raw_input().split())\n",
    "\n",
    "average(h)    "
   ]
  },
  {
   "cell_type": "code",
   "execution_count": 11,
   "metadata": {
    "collapsed": false
   },
   "outputs": [
    {
     "name": "stdout",
     "output_type": "stream",
     "text": [
      "10\n",
      "161 182 161 154 176 170 167 171 170 174\n",
      "169.375\n"
     ]
    }
   ],
   "source": [
    "\n",
    "from __future__ import division\n",
    "\n",
    "number = int(raw_input())\n",
    "heights = map(int, raw_input().split())\n",
    "assert len(heights) == number\n",
    "heights = set(heights)\n",
    "\n",
    "print '{:.3f}'.format(sum(heights) / len(heights))\n"
   ]
  },
  {
   "cell_type": "code",
   "execution_count": 15,
   "metadata": {
    "collapsed": false
   },
   "outputs": [
    {
     "name": "stdout",
     "output_type": "stream",
     "text": [
      "4\n",
      "2 4 5 9\n",
      "4\n",
      "2 4 11 12\n",
      "5\n",
      "9\n",
      "11\n",
      "12\n"
     ]
    }
   ],
   "source": [
    "M=int(raw_input())\n",
    "list1=map(int,raw_input().strip().split(\" \"))\n",
    "N=int(raw_input())\n",
    "list2=map(int,raw_input().strip().split(\" \"))\n",
    "set1=set(list1)\n",
    "set2=set(list2)\n",
    "l1=(set1.difference(set2))\n",
    "l2=(set2.difference(set1))\n",
    "l3=sorted(l1.union(l2))\n",
    "for i in l3:\n",
    "    print i"
   ]
  },
  {
   "cell_type": "code",
   "execution_count": 16,
   "metadata": {
    "collapsed": false
   },
   "outputs": [
    {
     "name": "stdout",
     "output_type": "stream",
     "text": [
      "3 2\n",
      "1 5 3\n",
      "3 1\n",
      "5 7\n",
      "1\n"
     ]
    }
   ],
   "source": [
    "\n",
    "(n, m) = map(int, raw_input().split())\n",
    "\n",
    "array = map(int, raw_input().split())\n",
    "\n",
    "\n",
    "A = set(map(int, raw_input().split()))\n",
    "\n",
    "\n",
    "B = set(map(int, raw_input().split()))\n",
    "\n",
    "\n",
    "happiness = 0\n",
    "\n",
    "for i in array:\n",
    "    if i in A:\n",
    "        happiness += 1\n",
    "    elif i in B:\n",
    "        happiness -= 1\n",
    "\n",
    "print happiness"
   ]
  },
  {
   "cell_type": "code",
   "execution_count": 24,
   "metadata": {
    "collapsed": false
   },
   "outputs": [
    {
     "name": "stdout",
     "output_type": "stream",
     "text": [
      "7\n",
      "UK\n",
      "China\n",
      "France\n",
      "UK\n",
      "USA\n",
      "Japan\n",
      "China\n",
      "set(['Japan', 'China', 'USA', 'UK', 'France'])\n",
      "5\n"
     ]
    }
   ],
   "source": [
    "n = int(raw_input())\n",
    "s = set()\n",
    "for i in range(n):\n",
    "    s.add(raw_input())\n",
    "    \n",
    "print len(s)\n",
    "\n",
    "\n"
   ]
  },
  {
   "cell_type": "code",
   "execution_count": null,
   "metadata": {
    "collapsed": true
   },
   "outputs": [],
   "source": []
  }
 ],
 "metadata": {
  "kernelspec": {
   "display_name": "Python 2",
   "language": "python",
   "name": "python2"
  },
  "language_info": {
   "codemirror_mode": {
    "name": "ipython",
    "version": 2
   },
   "file_extension": ".py",
   "mimetype": "text/x-python",
   "name": "python",
   "nbconvert_exporter": "python",
   "pygments_lexer": "ipython2",
   "version": "2.7.10"
  }
 },
 "nbformat": 4,
 "nbformat_minor": 2
}
