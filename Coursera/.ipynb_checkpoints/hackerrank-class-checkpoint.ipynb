{
 "cells": [
  {
   "cell_type": "code",
   "execution_count": null,
   "metadata": {
    "collapsed": true
   },
   "outputs": [],
   "source": [
    "\n"
   ]
  },
  {
   "cell_type": "code",
   "execution_count": 15,
   "metadata": {
    "collapsed": false
   },
   "outputs": [
    {
     "name": "stdout",
     "output_type": "stream",
     "text": [
      "42 -42\n",
      "84 -84\n",
      "126.00-126.00i\n",
      "-42.00+42.00i\n",
      "0.00-7056.00i\n",
      "0.50+0.00i\n",
      "59.40+0.00i\n",
      "118.79+0.00i\n"
     ]
    }
   ],
   "source": [
    "import math\n",
    "\n",
    "class Complex(object):\n",
    "    def __init__(self, real, imaginary):\n",
    "        self.real = real\n",
    "        self.imaginary = imaginary\n",
    "\n",
    "    def __add__(self, no):\n",
    "        real = self.real + no.real\n",
    "        imaginary = self.imaginary + no.imaginary\n",
    "        return Complex(real, imaginary)\n",
    "\n",
    "    def __sub__(self, no):\n",
    "        real = self.real - no.real\n",
    "        imaginary = self.imaginary - no.imaginary\n",
    "        return Complex(real, imaginary)\n",
    "\n",
    "    def __mul__(self, no):\n",
    "        real = self.real * no.real - self.imaginary * no.imaginary\n",
    "        imaginary = self.real * no.imaginary + self.imaginary * no.real\n",
    "        return Complex(real, imaginary)\n",
    "\n",
    "    def __div__(self, no):\n",
    "        x = float(no.real ** 2 + no.imaginary ** 2)\n",
    "        y = self * Complex(no.real, -no.imaginary)\n",
    "        real = y.real / x\n",
    "        imaginary = y.imaginary / x\n",
    "        return Complex(real, imaginary)\n",
    "\n",
    "    def mod(self):\n",
    "        real = math.sqrt(self.real ** 2 + self.imaginary ** 2)\n",
    "        return Complex(real, 0)\n",
    "\n",
    "    def __str__(self):\n",
    "        if self.imaginary == 0:\n",
    "            result = \"%.2f+0.00i\" % (self.real)\n",
    "            \n",
    "        elif self.real == 0 and self.imaginary >= 0:\n",
    "            result = \"0.00+%.2fi\" % (self.imaginary)\n",
    "        elif self.real == 0 and self.imaginary < 0:\n",
    "            result = \"0.00%.2fi\" % (self.imaginary)   \n",
    "        elif self.imaginary > 0:\n",
    "            result = \"%.2f+%.2fi\" % (self.real, self.imaginary)\n",
    "            \n",
    "        else:\n",
    "            result = \"%.2f-%.2fi\" % (self.real, abs(self.imaginary))\n",
    "        return result\n",
    "\n",
    "\n",
    "C = map(float, raw_input().split())\n",
    "D = map(float, raw_input().split())\n",
    "x = Complex(C[0],C[1])\n",
    "y = Complex(D[0],D[1])\n",
    "\n",
    "print str(x+y)\n",
    "print str(x-y)\n",
    "print str(x*y)\n",
    "print str(x/y)\n",
    "print str(x.mod())\n",
    "print str(y.mod())\n",
    "\n",
    "\n",
    "# print '\\n'.join(map(str, [x+y, x-y, x*y, x/y, x.mod(), y.mod()]))\n",
    "\n"
   ]
  },
  {
   "cell_type": "code",
   "execution_count": null,
   "metadata": {
    "collapsed": true
   },
   "outputs": [],
   "source": []
  },
  {
   "cell_type": "code",
   "execution_count": 16,
   "metadata": {
    "collapsed": false
   },
   "outputs": [
    {
     "name": "stdout",
     "output_type": "stream",
     "text": [
      "0 4 5\n",
      "1 7 6\n",
      "0 5 9\n",
      "1 7 2\n",
      "8.19\n"
     ]
    }
   ],
   "source": [
    "\n",
    "import math\n",
    "\n",
    "class Points(object):\n",
    "    def __init__(self, x, y, z):\n",
    "        self.x = x\n",
    "        self.y = y\n",
    "        self.z = z\n",
    "\n",
    "    def __sub__(self, no):\n",
    "        x = self.x - no.x\n",
    "        y = self.y - no.y\n",
    "        z = self.z - no.z\n",
    "        return Points(x, y, z)\n",
    "\n",
    "    def dot(self, no):\n",
    "        x = self.x * no.x\n",
    "        y = self.y * no.y\n",
    "        z = self.z * no.z\n",
    "        return x + y + z\n",
    "\n",
    "    def cross(self, no):\n",
    "        x = self.y * no.z - self.z * no.y\n",
    "        y = self.z * no.x - self.x * no.z\n",
    "        z = self.x * no.y - self.y * no.x\n",
    "        return Points(x, y, z)\n",
    "\n",
    "    def absolute_scale(self):\n",
    "        return pow((self.x ** 2 + self.y ** 2 + self.z ** 2),0.5)\n",
    "\n",
    "\n",
    "def solve(A, B, C, D):\n",
    "    A, B, C, D = Points(*A), Points(*B), Points(*C), Points(*D)\n",
    "    X = (B - A).cross(C - B)\n",
    "    Y = (C - B).cross(D - C)\n",
    "    angle = math.acos(X.dot(Y) / (X.absolute_scale() * Y.absolute_scale()))\n",
    "    print \"%.2f\" % math.degrees(angle)\n",
    "\n",
    "points = list()\n",
    "for i in range(4):\n",
    "    a = map(float, raw_input().split())\n",
    "    points.append(a)\n",
    "solve(*points)"
   ]
  }
 ],
 "metadata": {
  "kernelspec": {
   "display_name": "Python 2",
   "language": "python",
   "name": "python2"
  },
  "language_info": {
   "codemirror_mode": {
    "name": "ipython",
    "version": 2
   },
   "file_extension": ".py",
   "mimetype": "text/x-python",
   "name": "python",
   "nbconvert_exporter": "python",
   "pygments_lexer": "ipython2",
   "version": "2.7.10"
  }
 },
 "nbformat": 4,
 "nbformat_minor": 2
}
