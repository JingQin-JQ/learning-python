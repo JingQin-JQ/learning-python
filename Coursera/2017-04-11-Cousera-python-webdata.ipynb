{
 "cells": [
  {
   "cell_type": "code",
   "execution_count": 14,
   "metadata": {
    "collapsed": false,
    "deletable": true,
    "editable": true
   },
   "outputs": [
    {
     "name": "stdout",
     "output_type": "stream",
     "text": [
      "['umcg.nl']\n"
     ]
    }
   ],
   "source": [
    "import re\n",
    "lin = \"From Stephon.fer@umcg.nl Sat Jan 5 12:23:22 2003\"\n",
    "y = re.findall('@(\\S*)', lin)\n",
    "print y\n",
    "\n",
    "    "
   ]
  },
  {
   "cell_type": "code",
   "execution_count": 19,
   "metadata": {
    "collapsed": false,
    "deletable": true,
    "editable": true,
    "scrolled": true
   },
   "outputs": [
    {
     "name": "stdout",
     "output_type": "stream",
     "text": [
      "HTTP/1.1 200 OK\r\n",
      "Content-Type: text/plain\r\n",
      "Content-Length: 467\r\n",
      "Connection: close\r\n",
      "Date: Mon, 10 Apr 2017 14:15:31 GMT\r\n",
      "Server: Apache\r\n",
      "Last-Modified: Sat, 24 Sep 2016 20:36:08 GMT\r\n",
      "ETag: \"1d3-53d46d841582a\"\r\n",
      "Accept-Ranges: bytes\r\n",
      "\r\n",
      "Why should you learn to write programs?\n",
      "\n",
      "Writing programs (or programming) is a very creative \n",
      "and rewarding activity.  You can write programs for \n",
      "many reasons, ranging from making your living to solving\n",
      "a difficult data analysis problem to having fun to helping\n",
      "someone else so\n",
      "lve a problem.  This book assumes that \n",
      "everyone needs to know how to program, and that once \n",
      "you know how to program you will figure out what you want \n",
      "to do with your newfound skills.  \n",
      "\n"
     ]
    }
   ],
   "source": [
    "import socket\n",
    "mysock = socket.socket(socket.AF_INET, socket.SOCK_STREAM)\n",
    "mysock.connect(('www.data.pr4e.org', 80))\n",
    "\n",
    "mysock.send('GET http://www.data.pr4e.org/intro-short.txt HTTP/1.0\\n\\n')\n",
    "\n",
    "while True:\n",
    "    data = mysock.recv(512)\n",
    "    if (len(data)<1):\n",
    "        break\n",
    "    print data\n",
    "mysock.close()    \n"
   ]
  },
  {
   "cell_type": "code",
   "execution_count": 103,
   "metadata": {
    "collapsed": false,
    "deletable": true,
    "editable": true
   },
   "outputs": [
    {
     "ename": "KeyboardInterrupt",
     "evalue": "",
     "output_type": "error",
     "traceback": [
      "\u001b[0;31m---------------------------------------------------------------------------\u001b[0m",
      "\u001b[0;31mKeyboardInterrupt\u001b[0m                         Traceback (most recent call last)",
      "\u001b[0;32m<ipython-input-103-654239f4ecc2>\u001b[0m in \u001b[0;36m<module>\u001b[0;34m()\u001b[0m\n\u001b[1;32m      3\u001b[0m \u001b[0;32mfrom\u001b[0m \u001b[0mBeautifulSoup\u001b[0m \u001b[0;32mimport\u001b[0m \u001b[0;34m*\u001b[0m\u001b[0;34m\u001b[0m\u001b[0m\n\u001b[1;32m      4\u001b[0m \u001b[0;34m\u001b[0m\u001b[0m\n\u001b[0;32m----> 5\u001b[0;31m \u001b[0murl\u001b[0m \u001b[0;34m=\u001b[0m \u001b[0mraw_input\u001b[0m\u001b[0;34m(\u001b[0m\u001b[0;34m'Enter - '\u001b[0m\u001b[0;34m)\u001b[0m\u001b[0;34m\u001b[0m\u001b[0m\n\u001b[0m\u001b[1;32m      6\u001b[0m \u001b[0mhtml\u001b[0m \u001b[0;34m=\u001b[0m \u001b[0murllib\u001b[0m\u001b[0;34m.\u001b[0m\u001b[0murlopen\u001b[0m\u001b[0;34m(\u001b[0m\u001b[0murl\u001b[0m\u001b[0;34m)\u001b[0m\u001b[0;34m.\u001b[0m\u001b[0mread\u001b[0m\u001b[0;34m(\u001b[0m\u001b[0;34m)\u001b[0m\u001b[0;34m\u001b[0m\u001b[0m\n\u001b[1;32m      7\u001b[0m \u001b[0;34m\u001b[0m\u001b[0m\n",
      "\u001b[0;32m/Users/jingqin/venv2/lib/python2.7/site-packages/ipykernel/kernelbase.pyc\u001b[0m in \u001b[0;36mraw_input\u001b[0;34m(self, prompt)\u001b[0m\n\u001b[1;32m    692\u001b[0m             \u001b[0mself\u001b[0m\u001b[0;34m.\u001b[0m\u001b[0m_parent_ident\u001b[0m\u001b[0;34m,\u001b[0m\u001b[0;34m\u001b[0m\u001b[0m\n\u001b[1;32m    693\u001b[0m             \u001b[0mself\u001b[0m\u001b[0;34m.\u001b[0m\u001b[0m_parent_header\u001b[0m\u001b[0;34m,\u001b[0m\u001b[0;34m\u001b[0m\u001b[0m\n\u001b[0;32m--> 694\u001b[0;31m             \u001b[0mpassword\u001b[0m\u001b[0;34m=\u001b[0m\u001b[0mFalse\u001b[0m\u001b[0;34m,\u001b[0m\u001b[0;34m\u001b[0m\u001b[0m\n\u001b[0m\u001b[1;32m    695\u001b[0m         )\n\u001b[1;32m    696\u001b[0m \u001b[0;34m\u001b[0m\u001b[0m\n",
      "\u001b[0;32m/Users/jingqin/venv2/lib/python2.7/site-packages/ipykernel/kernelbase.pyc\u001b[0m in \u001b[0;36m_input_request\u001b[0;34m(self, prompt, ident, parent, password)\u001b[0m\n\u001b[1;32m    722\u001b[0m             \u001b[0;32mexcept\u001b[0m \u001b[0mKeyboardInterrupt\u001b[0m\u001b[0;34m:\u001b[0m\u001b[0;34m\u001b[0m\u001b[0m\n\u001b[1;32m    723\u001b[0m                 \u001b[0;31m# re-raise KeyboardInterrupt, to truncate traceback\u001b[0m\u001b[0;34m\u001b[0m\u001b[0;34m\u001b[0m\u001b[0m\n\u001b[0;32m--> 724\u001b[0;31m                 \u001b[0;32mraise\u001b[0m \u001b[0mKeyboardInterrupt\u001b[0m\u001b[0;34m\u001b[0m\u001b[0m\n\u001b[0m\u001b[1;32m    725\u001b[0m             \u001b[0;32melse\u001b[0m\u001b[0;34m:\u001b[0m\u001b[0;34m\u001b[0m\u001b[0m\n\u001b[1;32m    726\u001b[0m                 \u001b[0;32mbreak\u001b[0m\u001b[0;34m\u001b[0m\u001b[0m\n",
      "\u001b[0;31mKeyboardInterrupt\u001b[0m: "
     ]
    }
   ],
   "source": [
    "\n",
    "import urllib\n",
    "from BeautifulSoup import *\n",
    "\n",
    "url = raw_input('Enter - ')\n",
    "html = urllib.urlopen(url).read()\n",
    "\n",
    "soup = BeautifulSoup(html)\n",
    "tags = soup('span')\n",
    "\n",
    "Sum = 0\n",
    "\n",
    "for tag in tags:\n",
    "    numbers = int(tag.text)\n",
    "    Sum = Sum + numbers \n",
    "    \n",
    "print 'Sum:',Sum"
   ]
  },
  {
   "cell_type": "code",
   "execution_count": 58,
   "metadata": {
    "collapsed": false,
    "deletable": true,
    "editable": true,
    "scrolled": true
   },
   "outputs": [
    {
     "name": "stdout",
     "output_type": "stream",
     "text": [
      "Enter - http://python-data.dr-chuck.net/known_by_Chiron.html \n",
      "Enter count:7\n",
      "Enter position:18\n",
      "http://python-data.dr-chuck.net/known_by_Nieve.html\n",
      "http://python-data.dr-chuck.net/known_by_Magdalene.html\n",
      "http://python-data.dr-chuck.net/known_by_Richey.html\n",
      "http://python-data.dr-chuck.net/known_by_Yuanyu.html\n",
      "http://python-data.dr-chuck.net/known_by_Aimiee.html\n",
      "http://python-data.dr-chuck.net/known_by_Eisa.html\n",
      "http://python-data.dr-chuck.net/known_by_Calvin.html\n"
     ]
    }
   ],
   "source": [
    "# Note - this code must run in Python 2.x and you must download\n",
    "# http://www.pythonlearn.com/code/BeautifulSoup.py\n",
    "# Into the same folder as this program\n",
    "\n",
    "import urllib\n",
    "from BeautifulSoup import *\n",
    "\n",
    "url = raw_input('Enter - ')\n",
    "count = raw_input('Enter count:')\n",
    "position = raw_input('Enter position:')\n",
    "for m in range(int(count)):\n",
    "    \n",
    "    html = urllib.urlopen(url).read()\n",
    "    soup = BeautifulSoup(html)\n",
    "    n = 1\n",
    "# Retrieve all of the anchor tags\n",
    "    tags = soup('a')\n",
    "    \n",
    "    for tag in tags:\n",
    "        if n >= int(position):\n",
    "            print tag.get('href', None)\n",
    "            url = tag.get('href', None)\n",
    "            tag.get()\n",
    "            break\n",
    "        else:\n",
    "            n = n + 1"
   ]
  },
  {
   "cell_type": "code",
   "execution_count": 4,
   "metadata": {
    "collapsed": false
   },
   "outputs": [
    {
     "name": "stdout",
     "output_type": "stream",
     "text": [
      "a is None\n"
     ]
    }
   ],
   "source": [
    "a = None\n",
    "\n",
    "\n",
    "if a != None:\n",
    "    print \"Got it\"\n",
    "else:\n",
    "    print \"a is None\""
   ]
  },
  {
   "cell_type": "code",
   "execution_count": 94,
   "metadata": {
    "collapsed": true,
    "deletable": true,
    "editable": true
   },
   "outputs": [],
   "source": [
    "d ={'a':1, 'b':2}"
   ]
  },
  {
   "cell_type": "code",
   "execution_count": 97,
   "metadata": {
    "collapsed": false,
    "deletable": true,
    "editable": true
   },
   "outputs": [
    {
     "data": {
      "text/plain": [
       "2"
      ]
     },
     "execution_count": 97,
     "metadata": {},
     "output_type": "execute_result"
    }
   ],
   "source": [
    "d['b']\n"
   ]
  },
  {
   "cell_type": "code",
   "execution_count": 101,
   "metadata": {
    "collapsed": false,
    "deletable": true,
    "editable": true
   },
   "outputs": [
    {
     "name": "stdout",
     "output_type": "stream",
     "text": [
      "None\n"
     ]
    }
   ],
   "source": [
    "print d.get('c', None)"
   ]
  },
  {
   "cell_type": "code",
   "execution_count": 46,
   "metadata": {
    "collapsed": false,
    "deletable": true,
    "editable": true
   },
   "outputs": [
    {
     "name": "stdout",
     "output_type": "stream",
     "text": [
      "g\n",
      "g\n",
      "g\n",
      "g\n"
     ]
    }
   ],
   "source": [
    "for _ in range(4):\n",
    "    print \"g\"\n",
    "    "
   ]
  },
  {
   "cell_type": "code",
   "execution_count": 93,
   "metadata": {
    "collapsed": false,
    "deletable": true,
    "editable": true
   },
   "outputs": [
    {
     "data": {
      "text/plain": [
       "[0, 1, 2, 3]"
      ]
     },
     "execution_count": 93,
     "metadata": {},
     "output_type": "execute_result"
    }
   ],
   "source": [
    "range(4)"
   ]
  },
  {
   "cell_type": "code",
   "execution_count": 51,
   "metadata": {
    "collapsed": false,
    "deletable": true,
    "editable": true
   },
   "outputs": [
    {
     "name": "stdout",
     "output_type": "stream",
     "text": [
      "Enter - http://python-data.dr-chuck.net/known_by_Fikret.html\n",
      "http://python-data.dr-chuck.net/known_by_Aniqa.html\n",
      "http://python-data.dr-chuck.net/known_by_Ogheneruno.html\n",
      "http://python-data.dr-chuck.net/known_by_Montgomery.html\n",
      "http://python-data.dr-chuck.net/known_by_Owain.html\n",
      "http://python-data.dr-chuck.net/known_by_Haniyah.html\n",
      "http://python-data.dr-chuck.net/known_by_Anona.html\n",
      "http://python-data.dr-chuck.net/known_by_Edyn.html\n",
      "http://python-data.dr-chuck.net/known_by_Dallace.html\n",
      "http://python-data.dr-chuck.net/known_by_Zoe.html\n",
      "http://python-data.dr-chuck.net/known_by_Kiarash.html\n",
      "http://python-data.dr-chuck.net/known_by_Tracy.html\n",
      "http://python-data.dr-chuck.net/known_by_Carmyle.html\n",
      "http://python-data.dr-chuck.net/known_by_Zahraa.html\n",
      "http://python-data.dr-chuck.net/known_by_Alanys.html\n",
      "http://python-data.dr-chuck.net/known_by_Airidas.html\n",
      "http://python-data.dr-chuck.net/known_by_Melisa.html\n",
      "http://python-data.dr-chuck.net/known_by_Vivian.html\n",
      "http://python-data.dr-chuck.net/known_by_Margaret.html\n",
      "http://python-data.dr-chuck.net/known_by_Hajra.html\n",
      "http://python-data.dr-chuck.net/known_by_Ajooni.html\n",
      "http://python-data.dr-chuck.net/known_by_Alexanne.html\n",
      "http://python-data.dr-chuck.net/known_by_Sudais.html\n",
      "http://python-data.dr-chuck.net/known_by_Seb.html\n",
      "http://python-data.dr-chuck.net/known_by_Christin.html\n",
      "http://python-data.dr-chuck.net/known_by_Jaimie.html\n",
      "http://python-data.dr-chuck.net/known_by_Jennah.html\n",
      "http://python-data.dr-chuck.net/known_by_Landon.html\n",
      "http://python-data.dr-chuck.net/known_by_Mea.html\n",
      "http://python-data.dr-chuck.net/known_by_Cacie.html\n",
      "http://python-data.dr-chuck.net/known_by_Colton.html\n",
      "http://python-data.dr-chuck.net/known_by_Mitchel.html\n",
      "http://python-data.dr-chuck.net/known_by_Chintu.html\n",
      "http://python-data.dr-chuck.net/known_by_Hyden.html\n",
      "http://python-data.dr-chuck.net/known_by_Chrystal.html\n",
      "http://python-data.dr-chuck.net/known_by_Lincon.html\n",
      "http://python-data.dr-chuck.net/known_by_Jaden.html\n",
      "http://python-data.dr-chuck.net/known_by_Roma.html\n",
      "http://python-data.dr-chuck.net/known_by_Manolo.html\n",
      "http://python-data.dr-chuck.net/known_by_Clio.html\n",
      "http://python-data.dr-chuck.net/known_by_Teos.html\n",
      "http://python-data.dr-chuck.net/known_by_Rihonn.html\n",
      "http://python-data.dr-chuck.net/known_by_Griffin.html\n",
      "http://python-data.dr-chuck.net/known_by_Conley.html\n",
      "http://python-data.dr-chuck.net/known_by_Xiao.html\n",
      "http://python-data.dr-chuck.net/known_by_Dhyia.html\n",
      "http://python-data.dr-chuck.net/known_by_Manahil.html\n",
      "http://python-data.dr-chuck.net/known_by_Diona.html\n",
      "http://python-data.dr-chuck.net/known_by_Dharam.html\n",
      "http://python-data.dr-chuck.net/known_by_Danielle.html\n",
      "http://python-data.dr-chuck.net/known_by_Rori.html\n",
      "http://python-data.dr-chuck.net/known_by_Lang.html\n",
      "http://python-data.dr-chuck.net/known_by_Sabila.html\n",
      "http://python-data.dr-chuck.net/known_by_Zoha.html\n",
      "http://python-data.dr-chuck.net/known_by_Jemma.html\n",
      "http://python-data.dr-chuck.net/known_by_Silvana.html\n",
      "http://python-data.dr-chuck.net/known_by_Asal.html\n",
      "http://python-data.dr-chuck.net/known_by_Dillon.html\n",
      "http://python-data.dr-chuck.net/known_by_CJ.html\n",
      "http://python-data.dr-chuck.net/known_by_Joanna.html\n",
      "http://python-data.dr-chuck.net/known_by_Atal.html\n",
      "http://python-data.dr-chuck.net/known_by_Callun.html\n",
      "http://python-data.dr-chuck.net/known_by_Anubhav.html\n",
      "http://python-data.dr-chuck.net/known_by_Coray.html\n",
      "http://python-data.dr-chuck.net/known_by_Graeme.html\n",
      "http://python-data.dr-chuck.net/known_by_Chrissie.html\n",
      "http://python-data.dr-chuck.net/known_by_Ayub.html\n",
      "http://python-data.dr-chuck.net/known_by_Heather.html\n",
      "http://python-data.dr-chuck.net/known_by_Katie.html\n",
      "http://python-data.dr-chuck.net/known_by_Inaara.html\n",
      "http://python-data.dr-chuck.net/known_by_Siddhant.html\n",
      "http://python-data.dr-chuck.net/known_by_Salymat.html\n",
      "http://python-data.dr-chuck.net/known_by_Shahd.html\n",
      "http://python-data.dr-chuck.net/known_by_Anaya.html\n",
      "http://python-data.dr-chuck.net/known_by_Kevaugh.html\n",
      "http://python-data.dr-chuck.net/known_by_Thumbiko.html\n",
      "http://python-data.dr-chuck.net/known_by_Xida.html\n",
      "http://python-data.dr-chuck.net/known_by_Alaska.html\n",
      "http://python-data.dr-chuck.net/known_by_Shonagh.html\n",
      "http://python-data.dr-chuck.net/known_by_Kaiya.html\n",
      "http://python-data.dr-chuck.net/known_by_Khadija.html\n",
      "http://python-data.dr-chuck.net/known_by_Kieron.html\n",
      "http://python-data.dr-chuck.net/known_by_Filip.html\n",
      "http://python-data.dr-chuck.net/known_by_Dorothy.html\n",
      "http://python-data.dr-chuck.net/known_by_Kallan.html\n",
      "http://python-data.dr-chuck.net/known_by_Mena.html\n",
      "http://python-data.dr-chuck.net/known_by_Abbie.html\n",
      "http://python-data.dr-chuck.net/known_by_Amyleigh.html\n",
      "http://python-data.dr-chuck.net/known_by_Annalise.html\n",
      "http://python-data.dr-chuck.net/known_by_Carrich.html\n",
      "http://python-data.dr-chuck.net/known_by_Rachel.html\n",
      "http://python-data.dr-chuck.net/known_by_Etinosa.html\n",
      "http://python-data.dr-chuck.net/known_by_Amie.html\n",
      "http://python-data.dr-chuck.net/known_by_Lisa.html\n",
      "http://python-data.dr-chuck.net/known_by_Liv.html\n",
      "http://python-data.dr-chuck.net/known_by_Baylie.html\n",
      "http://python-data.dr-chuck.net/known_by_Jubin.html\n",
      "http://python-data.dr-chuck.net/known_by_Kacie.html\n",
      "http://python-data.dr-chuck.net/known_by_Falyn.html\n",
      "http://python-data.dr-chuck.net/known_by_Conli.html\n",
      "http://python-data.dr-chuck.net/known_by_Cohen.html\n"
     ]
    }
   ],
   "source": [
    "# Note - this code must run in Python 2.x and you must download\n",
    "# http://www.pythonlearn.com/code/BeautifulSoup.py\n",
    "# Into the same folder as this program\n",
    "\n",
    "import urllib\n",
    "from BeautifulSoup import *\n",
    "\n",
    "url = raw_input('Enter - ')\n",
    "html = urllib.urlopen(url).read()\n",
    "soup = BeautifulSoup(html)\n",
    "\n",
    "# Retrieve all of the anchor tags\n",
    "tags = soup('a')\n",
    "for tag in tags:\n",
    "    print tag.get('href', None)"
   ]
  },
  {
   "cell_type": "code",
   "execution_count": 92,
   "metadata": {
    "collapsed": false,
    "deletable": true,
    "editable": true,
    "scrolled": true
   },
   "outputs": [
    {
     "name": "stdout",
     "output_type": "stream",
     "text": [
      "Enter location:  http://python-data.dr-chuck.net/comments_306517.xml\n",
      "Retrieving  http://python-data.dr-chuck.net/comments_306517.xml\n",
      "Retrieved 4195 characters\n",
      "Count: 50\n",
      "Sum: 2779\n"
     ]
    }
   ],
   "source": [
    "import urllib\n",
    "import xml.etree.ElementTree as ET\n",
    "\n",
    "\n",
    "\n",
    "while True:\n",
    "    address = raw_input('Enter location: ')\n",
    "    if len(address) < 1 : break\n",
    "\n",
    "   \n",
    "   \n",
    "    #url = serviceurl + urllib.urlencode({'sensor':'false', 'address': address})\n",
    "    print 'Retrieving', address\n",
    "    uh = urllib.urlopen(address)\n",
    "    data = uh.read()\n",
    "    \n",
    "    tree = ET.fromstring(data)\n",
    "    print 'Retrieved',len(data),'characters'\n",
    "    counts = tree.findall('.//count')\n",
    "  \n",
    "    \n",
    "    \n",
    "    Count = 0\n",
    "    Sum = 0\n",
    "    for count in counts:\n",
    "        Count += 1\n",
    "        numbers = int(count.text)\n",
    "        Sum = Sum + numbers \n",
    "    print \"Count:\", Count\n",
    "    print \"Sum:\", Sum\n",
    "    break\n"
   ]
  },
  {
   "cell_type": "markdown",
   "metadata": {
    "deletable": true,
    "editable": true
   },
   "source": [
    "for loop _\n",
    "<a>\n",
    "href\n",
    "attribute\n",
    "tag.get(key, None) how to understand None\n",
    "Dictionary None\n",
    "Name of variable"
   ]
  },
  {
   "cell_type": "code",
   "execution_count": 106,
   "metadata": {
    "collapsed": false,
    "deletable": true,
    "editable": true
   },
   "outputs": [
    {
     "data": {
      "text/plain": [
       "[{'head': 'A'}, {'div': [{'p': 'B'}, {'p': 'C'}, {'span': 'D'}]}]"
      ]
     },
     "execution_count": 106,
     "metadata": {},
     "output_type": "execute_result"
    }
   ],
   "source": [
    "[{\"head\":\"A\"}, {\"div\":[{\"p\":\"B\"}, {\"p\":\"C\"}, {\"span\":\"D\"}]}]\n"
   ]
  }
 ],
 "metadata": {
  "kernelspec": {
   "display_name": "Python 2",
   "language": "python",
   "name": "python2"
  },
  "language_info": {
   "codemirror_mode": {
    "name": "ipython",
    "version": 2
   },
   "file_extension": ".py",
   "mimetype": "text/x-python",
   "name": "python",
   "nbconvert_exporter": "python",
   "pygments_lexer": "ipython2",
   "version": "2.7.10"
  }
 },
 "nbformat": 4,
 "nbformat_minor": 2
}
