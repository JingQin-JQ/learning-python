{
 "cells": [
  {
   "cell_type": "code",
   "execution_count": null,
   "metadata": {
    "collapsed": true
   },
   "outputs": [],
   "source": []
  },
  {
   "cell_type": "code",
   "execution_count": 2,
   "metadata": {
    "collapsed": false
   },
   "outputs": [
    {
     "name": "stdout",
     "output_type": "stream",
     "text": [
      "[['O', 'O', 'O', 'O', 'O'], ['O', 'O', 'O', 'O', 'O'], ['O', 'O', 'O', 'O', 'O'], ['O', 'O', 'O', 'O', 'O'], ['O', 'O', 'O', 'O', 'O']]\n"
     ]
    }
   ],
   "source": [
    "board = []\n",
    "for i in range(5):\n",
    "    board.append([\"O\"]*5)\n",
    "print board\n"
   ]
  },
  {
   "cell_type": "code",
   "execution_count": 5,
   "metadata": {
    "collapsed": false,
    "scrolled": true
   },
   "outputs": [
    {
     "name": "stdout",
     "output_type": "stream",
     "text": [
      "['O', 'O', 'O', 'O', 'O']\n",
      "['O', 'O', 'O', 'O', 'O']\n",
      "['O', 'O', 'O', 'O', 'O']\n",
      "['O', 'O', 'O', 'O', 'O']\n",
      "['O', 'O', 'O', 'O', 'O']\n"
     ]
    }
   ],
   "source": [
    "board = []\n",
    "for i in range(5):\n",
    "    board.append([\"O\"]*5)\n",
    "\n",
    "def print_board(board):\n",
    "    for i in board:\n",
    "        print i\n",
    "\n",
    "print_board(board)\n"
   ]
  },
  {
   "cell_type": "code",
   "execution_count": 18,
   "metadata": {
    "collapsed": false
   },
   "outputs": [
    {
     "data": {
      "text/plain": [
       "False"
      ]
     },
     "execution_count": 18,
     "metadata": {},
     "output_type": "execute_result"
    }
   ],
   "source": [
    "def is_prime (x):\n",
    "    for i in range(2, x):\n",
    "        if x % i == 0:\n",
    "            return False\n",
    "    else:\n",
    "        return True\n",
    "\n",
    "is_prime(6)    \n",
    "    \n",
    "    \n",
    "    "
   ]
  },
  {
   "cell_type": "code",
   "execution_count": 36,
   "metadata": {
    "collapsed": false
   },
   "outputs": [
    {
     "name": "stdout",
     "output_type": "stream",
     "text": [
      "6\n",
      "5\n",
      "4\n",
      "3\n",
      "2\n",
      "1\n"
     ]
    },
    {
     "data": {
      "text/plain": [
       "'!nohty'"
      ]
     },
     "execution_count": 36,
     "metadata": {},
     "output_type": "execute_result"
    }
   ],
   "source": [
    "def reverse(text):\n",
    "    re_text = []\n",
    "    for i in range(len(text)-1, 0, -1):\n",
    "        print i\n",
    "        re_text.append(text[i])\n",
    "        \n",
    "    return \"\".join(re_text)    \n",
    "\n",
    "reverse(\"Python!\")"
   ]
  },
  {
   "cell_type": "code",
   "execution_count": 74,
   "metadata": {
    "collapsed": false,
    "scrolled": true
   },
   "outputs": [
    {
     "name": "stdout",
     "output_type": "stream",
     "text": [
      "H\n",
      "['H']\n",
      "y\n",
      "['H', 'y']\n",
      " \n",
      "['H', 'y', ' ']\n",
      "k\n",
      "['H', 'y', ' ', 'k']\n",
      " \n",
      "['H', 'y', ' ', 'k', ' ']\n",
      "r\n",
      "['H', 'y', ' ', 'k', ' ', 'r']\n",
      "d\n",
      "['H', 'y', ' ', 'k', ' ', 'r', 'd']\n",
      "s\n",
      "['H', 'y', ' ', 'k', ' ', 'r', 'd', 's']\n",
      "!\n",
      "['H', 'y', ' ', 'k', ' ', 'r', 'd', 's', '!']\n",
      " \n",
      "['H', 'y', ' ', 'k', ' ', 'r', 'd', 's', '!', ' ']\n"
     ]
    },
    {
     "data": {
      "text/plain": [
       "'Hy k rds! '"
      ]
     },
     "execution_count": 74,
     "metadata": {},
     "output_type": "execute_result"
    }
   ],
   "source": [
    "def anti_vowel(text):\n",
    "    l = []\n",
    "   \n",
    "    for i in range(len(text)):\n",
    "       \n",
    "        if not(text[i] in \"vowelVOWEL\") :\n",
    "            \n",
    "            l.append(text[i])\n",
    "            \n",
    "        \n",
    "    return \"\".join(l)\n",
    "\n",
    "anti_vowel(\"Hey look Words! \")"
   ]
  },
  {
   "cell_type": "code",
   "execution_count": 83,
   "metadata": {
    "collapsed": false
   },
   "outputs": [
    {
     "name": "stdout",
     "output_type": "stream",
     "text": [
      "4\n",
      "1\n",
      "1\n",
      "2\n"
     ]
    },
    {
     "data": {
      "text/plain": [
       "8"
      ]
     },
     "execution_count": 83,
     "metadata": {},
     "output_type": "execute_result"
    }
   ],
   "source": [
    "score = {\"a\": 1, \"c\": 3, \"b\": 3, \"e\": 1, \"d\": 2, \"g\": 2, \n",
    "         \"f\": 4, \"i\": 1, \"h\": 4, \"k\": 5, \"j\": 8, \"m\": 3, \n",
    "         \"l\": 1, \"o\": 1, \"n\": 1, \"q\": 10, \"p\": 3, \"s\": 1, \n",
    "         \"r\": 1, \"u\": 1, \"t\": 1, \"w\": 4, \"v\": 4, \"y\": 4, \n",
    "         \"x\": 8, \"z\": 10}\n",
    "         \n",
    "def scrabble_score(word):\n",
    "    sum = 0\n",
    "    for i in range(len(word)):\n",
    "        sum = sum + score[word[i]]\n",
    "        print score[word[i]]\n",
    "    return sum    \n",
    "\n",
    "scrabble_score(\"word\")"
   ]
  },
  {
   "cell_type": "code",
   "execution_count": 101,
   "metadata": {
    "collapsed": false
   },
   "outputs": [
    {
     "name": "stdout",
     "output_type": "stream",
     "text": [
      "t 0 [] 0"
     ]
    },
    {
     "ename": "IndexError",
     "evalue": "list index out of range",
     "output_type": "error",
     "traceback": [
      "\u001b[0;31m---------------------------------------------------------------------------\u001b[0m",
      "\u001b[0;31mIndexError\u001b[0m                                Traceback (most recent call last)",
      "\u001b[0;32m<ipython-input-101-ec56ece81de3>\u001b[0m in \u001b[0;36m<module>\u001b[0;34m()\u001b[0m\n\u001b[1;32m     11\u001b[0m     \u001b[0;32mprint\u001b[0m \u001b[0mlist_text\u001b[0m\u001b[0;34m\u001b[0m\u001b[0m\n\u001b[1;32m     12\u001b[0m \u001b[0;34m\u001b[0m\u001b[0m\n\u001b[0;32m---> 13\u001b[0;31m \u001b[0mcensor\u001b[0m\u001b[0;34m(\u001b[0m\u001b[0;34m\"this hack is wack hack\"\u001b[0m\u001b[0;34m,\u001b[0m \u001b[0;34m\"hack\"\u001b[0m\u001b[0;34m)\u001b[0m\u001b[0;34m\u001b[0m\u001b[0m\n\u001b[0m",
      "\u001b[0;32m<ipython-input-101-ec56ece81de3>\u001b[0m in \u001b[0;36mcensor\u001b[0;34m(text, word)\u001b[0m\n\u001b[1;32m      4\u001b[0m     \u001b[0;32mfor\u001b[0m \u001b[0mi\u001b[0m \u001b[0;32min\u001b[0m \u001b[0mrange\u001b[0m\u001b[0;34m(\u001b[0m\u001b[0mlen\u001b[0m\u001b[0;34m(\u001b[0m\u001b[0mtext\u001b[0m\u001b[0;34m)\u001b[0m\u001b[0;34m)\u001b[0m\u001b[0;34m:\u001b[0m\u001b[0;34m\u001b[0m\u001b[0m\n\u001b[1;32m      5\u001b[0m         \u001b[0;32mif\u001b[0m \u001b[0mtext\u001b[0m\u001b[0;34m[\u001b[0m\u001b[0mi\u001b[0m\u001b[0;34m]\u001b[0m \u001b[0;34m!=\u001b[0m \u001b[0;34m\" \"\u001b[0m\u001b[0;34m:\u001b[0m\u001b[0;34m\u001b[0m\u001b[0m\n\u001b[0;32m----> 6\u001b[0;31m             \u001b[0;32mprint\u001b[0m \u001b[0mtext\u001b[0m\u001b[0;34m[\u001b[0m\u001b[0mi\u001b[0m\u001b[0;34m]\u001b[0m\u001b[0;34m,\u001b[0m\u001b[0mi\u001b[0m\u001b[0;34m,\u001b[0m \u001b[0mlist_text\u001b[0m\u001b[0;34m,\u001b[0m\u001b[0mj\u001b[0m\u001b[0;34m,\u001b[0m\u001b[0mlist_text\u001b[0m\u001b[0;34m[\u001b[0m\u001b[0mj\u001b[0m\u001b[0;34m]\u001b[0m\u001b[0;34m\u001b[0m\u001b[0m\n\u001b[0m\u001b[1;32m      7\u001b[0m             \u001b[0mlist_text\u001b[0m\u001b[0;34m[\u001b[0m\u001b[0mj\u001b[0m\u001b[0;34m]\u001b[0m \u001b[0;34m=\u001b[0m \u001b[0mtext\u001b[0m\u001b[0;34m[\u001b[0m\u001b[0mi\u001b[0m\u001b[0;34m]\u001b[0m\u001b[0;34m\u001b[0m\u001b[0m\n\u001b[1;32m      8\u001b[0m         \u001b[0;32melse\u001b[0m\u001b[0;34m:\u001b[0m\u001b[0;34m\u001b[0m\u001b[0m\n",
      "\u001b[0;31mIndexError\u001b[0m: list index out of range"
     ]
    }
   ],
   "source": [
    "def censor(text,word):\n",
    "    list_text =[]\n",
    "    j = 0\n",
    "    for i in range(len(text)):\n",
    "        if text[i] != \" \":\n",
    "            print text[i],i, list_text,j,\n",
    "            list_text[j] = text[i]\n",
    "        else:\n",
    "            j = j + 1\n",
    "            \n",
    "    print list_text\n",
    "    \n",
    "censor(\"this hack is wack hack\", \"hack\")"
   ]
  },
  {
   "cell_type": "code",
   "execution_count": 118,
   "metadata": {
    "collapsed": false
   },
   "outputs": [
    {
     "data": {
      "text/plain": [
       "'this **** is wack ****'"
      ]
     },
     "execution_count": 118,
     "metadata": {},
     "output_type": "execute_result"
    }
   ],
   "source": [
    "def censor(text,word):\n",
    "    list_text = text.split()\n",
    "  \n",
    "    for i in range(len(list_text)):\n",
    "        if list_text[i] == word:\n",
    "            list_text[i] = \"*\" * len(word)\n",
    "            \n",
    "    return \" \".join(list_text)\n",
    "censor(\"this hack is wack hack\", \"hack\")\n"
   ]
  },
  {
   "cell_type": "code",
   "execution_count": 126,
   "metadata": {
    "collapsed": false
   },
   "outputs": [
    {
     "name": "stdout",
     "output_type": "stream",
     "text": [
      "1\n",
      "2\n",
      "3\n",
      "4\n",
      "5\n",
      "6\n"
     ]
    },
    {
     "data": {
      "text/plain": [
       "[2, 4, 6]"
      ]
     },
     "execution_count": 126,
     "metadata": {},
     "output_type": "execute_result"
    }
   ],
   "source": [
    "def purify(list_number):\n",
    "    new_list = []\n",
    "    for i in range(len(list_number)):\n",
    "        print list_number[i]\n",
    "        if list_number[i] % 2 == 0:\n",
    "            new_list.append(list_number[i])\n",
    "    return new_list  \n",
    "purify([1,2,3,4,5,6])"
   ]
  },
  {
   "cell_type": "code",
   "execution_count": 129,
   "metadata": {
    "collapsed": false
   },
   "outputs": [],
   "source": [
    "def product(int_list):\n",
    "    p = 1\n",
    "    \n",
    "    for i in range(len(int_list)):\n",
    "        \n",
    "        p = p * int_list[i]\n",
    "        \n",
    "    return p  "
   ]
  },
  {
   "cell_type": "code",
   "execution_count": 141,
   "metadata": {
    "collapsed": false
   },
   "outputs": [
    {
     "name": "stdout",
     "output_type": "stream",
     "text": [
      "0\n",
      "4\n",
      "0\n",
      "5\n",
      "1\n",
      "0\n",
      "1\n",
      "2\n",
      "0\n",
      "1\n",
      "2\n"
     ]
    },
    {
     "data": {
      "text/plain": [
       "[4, 5]"
      ]
     },
     "execution_count": 141,
     "metadata": {},
     "output_type": "execute_result"
    }
   ],
   "source": [
    "def remove_duplicates(text_l):\n",
    "    new_l = []\n",
    "    for i in range(len(text_l)):\n",
    "      \n",
    "        for j in range(len(new_l)+1):\n",
    "           \n",
    "            if not(text_l[i] in new_l):\n",
    "               \n",
    "                new_l.append(text_l[i])\n",
    "    return new_l\n",
    "remove_duplicates([4, 5, 5, 4]) \n"
   ]
  },
  {
   "cell_type": "code",
   "execution_count": 160,
   "metadata": {
    "collapsed": false
   },
   "outputs": [
    {
     "data": {
      "text/plain": [
       "2.5"
      ]
     },
     "execution_count": 160,
     "metadata": {},
     "output_type": "execute_result"
    }
   ],
   "source": [
    "def median(numbers):\n",
    "    new = sorted(numbers)\n",
    "\n",
    "    length = len(numbers)\n",
    "    mid =length/2\n",
    "    \n",
    "    if length % 2 == 1:\n",
    "        a = new[mid]\n",
    "        return a\n",
    "    else:\n",
    "        return (new[(mid-1)] + new[(mid)])/2.0\n",
    "    \n",
    "    \n",
    "median([1,4,2,3,7,2])    "
   ]
  }
 ],
 "metadata": {
  "kernelspec": {
   "display_name": "Python 2",
   "language": "python",
   "name": "python2"
  },
  "language_info": {
   "codemirror_mode": {
    "name": "ipython",
    "version": 2
   },
   "file_extension": ".py",
   "mimetype": "text/x-python",
   "name": "python",
   "nbconvert_exporter": "python",
   "pygments_lexer": "ipython2",
   "version": "2.7.10"
  }
 },
 "nbformat": 4,
 "nbformat_minor": 2
}
