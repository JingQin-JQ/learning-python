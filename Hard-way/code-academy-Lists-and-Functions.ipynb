{
 "cells": [
  {
   "cell_type": "code",
   "execution_count": 15,
   "metadata": {
    "collapsed": false
   },
   "outputs": [
    {
     "name": "stdout",
     "output_type": "stream",
     "text": [
      "B\n",
      "[{'quizzes': [82.0, 83.0, 91.0], 'tests': [89.0, 97.0], 'name': 'Alice', 'homework': [100.0, 92.0, 98.0, 100.0]}, {'quizzes': [88.0, 40.0, 94.0], 'tests': [75.0, 90.0], 'name': 'Lloyd', 'homework': [90.0, 97.0, 75.0, 92.0]}] ---1---\n",
      "91.15 ---2---\n",
      "[91.14999999999999] ----3----\n",
      "91.15 ----4---\n",
      "80.55 ---2---\n",
      "[91.14999999999999, 80.55] ----3----\n",
      "85.85 ----4---\n",
      "85.85\n"
     ]
    }
   ],
   "source": [
    "lloyd = {\n",
    "    \"name\": \"Lloyd\",\n",
    "    \"homework\": [90.0, 97.0, 75.0, 92.0],\n",
    "    \"quizzes\": [88.0, 40.0, 94.0],\n",
    "    \"tests\": [75.0, 90.0]\n",
    "}\n",
    "alice = {\n",
    "    \"name\": \"Alice\",\n",
    "    \"homework\": [100.0, 92.0, 98.0, 100.0],\n",
    "    \"quizzes\": [82.0, 83.0, 91.0],\n",
    "    \"tests\": [89.0, 97.0]\n",
    "}\n",
    "tyler = {\n",
    "    \"name\": \"Tyler\",\n",
    "    \"homework\": [0.0, 87.0, 75.0, 22.0],\n",
    "    \"quizzes\": [0.0, 75.0, 78.0],\n",
    "    \"tests\": [100.0, 100.0]\n",
    "}\n",
    "\n",
    "# Add your function below!\n",
    "\n",
    "def average(numbers):\n",
    "    total = sum(numbers) \n",
    "    total = float(total) / len(numbers)\n",
    "    return total\n",
    "    \n",
    "def get_average(student):\n",
    "    homework = average(student[\"homework\"]) \n",
    "    quizzes = average(student[\"quizzes\"])\n",
    "    tests = average(student[\"tests\"])\n",
    "    total = 0.1*homework+0.3*quizzes+0.6*tests\n",
    "    return total   \n",
    "    \n",
    "def get_letter_grade(score):\n",
    "    if score >= 90:\n",
    "        return \"A\"\n",
    "    elif score >= 80:\n",
    "        return \"B\"\n",
    "    elif score >= 70:\n",
    "        return \"C\"\n",
    "    elif score >= 60:\n",
    "        return \"D\"\n",
    "    else:\n",
    "        return \"F\"\n",
    "        \n",
    "print get_letter_grade(get_average(lloyd))\n",
    " \n",
    " \n",
    "def get_class_average(students):\n",
    "    \n",
    "    print students, \"---1---\" \n",
    "    results = []\n",
    "    for each in students:\n",
    "        result=get_average(each)\n",
    "        print result, \"---2---\"\n",
    "        results.append(result)\n",
    "        print results, \"----3----\"\n",
    "        print average(results), \"----4---\"\n",
    "    return average(results)\n",
    "       \n",
    "\n",
    "# print get_class_average([alice])     \n",
    "# print get_class_average([lloyd])  \n",
    "\n",
    "print get_class_average([alice, lloyd]) "
   ]
  },
  {
   "cell_type": "code",
   "execution_count": 21,
   "metadata": {
    "collapsed": false
   },
   "outputs": [
    {
     "name": "stdout",
     "output_type": "stream",
     "text": [
      "boy\n"
     ]
    }
   ],
   "source": [
    "a = {\"Jing\":\"girl\", \"Zhe\":\"boy\"}\n",
    "print a[\"Zhe\"]"
   ]
  }
 ],
 "metadata": {
  "kernelspec": {
   "display_name": "Python 2",
   "language": "python",
   "name": "python2"
  },
  "language_info": {
   "codemirror_mode": {
    "name": "ipython",
    "version": 2
   },
   "file_extension": ".py",
   "mimetype": "text/x-python",
   "name": "python",
   "nbconvert_exporter": "python",
   "pygments_lexer": "ipython2",
   "version": "2.7.10"
  }
 },
 "nbformat": 4,
 "nbformat_minor": 2
}
