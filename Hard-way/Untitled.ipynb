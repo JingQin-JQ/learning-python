{
 "cells": [
  {
   "cell_type": "code",
   "execution_count": 2,
   "metadata": {
    "collapsed": false
   },
   "outputs": [
    {
     "name": "stdout",
     "output_type": "stream",
     "text": [
      "[6]\n"
     ]
    }
   ],
   "source": [
    "doubles_by_3 = [x*2 for x in range(1,6) if (x*2) % 3 == 0]\n",
    "\n",
    "print doubles_by_3"
   ]
  },
  {
   "cell_type": "code",
   "execution_count": 3,
   "metadata": {
    "collapsed": false,
    "scrolled": true
   },
   "outputs": [
    {
     "name": "stdout",
     "output_type": "stream",
     "text": [
      "[8, 64, 216, 512]\n"
     ]
    }
   ],
   "source": [
    "cubes_by_four = [x**3 for x in range(1,11) if x**3 % 4 == 0 ]\n",
    "print cubes_by_four"
   ]
  },
  {
   "cell_type": "code",
   "execution_count": 4,
   "metadata": {
    "collapsed": false
   },
   "outputs": [
    {
     "name": "stdout",
     "output_type": "stream",
     "text": [
      "[10, 9, 8, 7, 6, 5, 4, 3, 2, 1]\n"
     ]
    }
   ],
   "source": [
    "my_list = range(1, 11)\n",
    "\n",
    "# Add your code below!\n",
    "backwards = my_list[::-1]\n",
    "print backwards"
   ]
  },
  {
   "cell_type": "code",
   "execution_count": 5,
   "metadata": {
    "collapsed": false
   },
   "outputs": [
    {
     "name": "stdout",
     "output_type": "stream",
     "text": [
      "4\n"
     ]
    }
   ],
   "source": [
    "class Square(object):\n",
    "  def __init__(self):\n",
    "    self.sides = 4\n",
    "\n",
    "my_shape = Square()\n",
    "print my_shape.sides"
   ]
  },
  {
   "cell_type": "code",
   "execution_count": 8,
   "metadata": {
    "collapsed": false
   },
   "outputs": [
    {
     "name": "stdout",
     "output_type": "stream",
     "text": [
      "good\n",
      "good\n",
      "good\n"
     ]
    }
   ],
   "source": [
    "class Animal(object):\n",
    "    \"\"\"Makes cute animals.\"\"\"\n",
    "    is_alive = True\n",
    "    health = \"good\"\n",
    "  # print \"is alive?\", is_alive\n",
    "    def __init__(self, name, age):\n",
    "        self.name = name\n",
    "        self.age = age\n",
    "    \n",
    "        #print \"age\",self.age\n",
    "    # Add your method here!\n",
    "    def description(self):\n",
    "        print self.name\n",
    "        print self.age\n",
    "       \n",
    "hippo = Animal(\"Pop\", 3) \n",
    "sloth = Animal(\"Flash\", 12)\n",
    "ocelot = Animal(\"Kitty\", 2)\n",
    "   \n",
    "#hippo.description()    \n",
    "   \n",
    "print hippo.health\n",
    "print sloth.health\n",
    "print ocelot.health\n",
    "    "
   ]
  },
  {
   "cell_type": "code",
   "execution_count": 16,
   "metadata": {
    "collapsed": false
   },
   "outputs": [
    {
     "name": "stdout",
     "output_type": "stream",
     "text": [
      "3\n",
      "56\n",
      "23\n",
      "34\n",
      "63\n",
      "22\n",
      "4\n",
      "2\n",
      "highest 4\n"
     ]
    }
   ],
   "source": [
    "maxi = 0\n",
    "imax = 0\n",
    "for i in range(8):\n",
    "    mountain_h = int(raw_input())  # represents the height of one mountain.\n",
    "    if mountain_h > maxi:\n",
    "        maxi = mountain_h\n",
    "        imax = i\n",
    "\n",
    "\n",
    "print \"highest\", imax\n",
    "\n"
   ]
  },
  {
   "cell_type": "code",
   "execution_count": null,
   "metadata": {
    "collapsed": true
   },
   "outputs": [],
   "source": [
    "class ShoppingCart(object):\n",
    "    \"\"\"Creates shopping cart objects\n",
    "    for users of our fine website.\"\"\"\n",
    "    items_in_cart = {}\n",
    "    def __init__(self, customer_name):\n",
    "        self.customer_name = customer_name\n",
    "\n",
    "    def add_item(self, product, price):\n",
    "        \"\"\"Add product to the cart.\"\"\"\n",
    "        if not product in self.items_in_cart:\n",
    "            self.items_in_cart[product] = price\n",
    "            print product + \" added.\"\n",
    "        else:\n",
    "            print product + \" is already in the cart.\"\n",
    "\n",
    "    def remove_item(self, product):\n",
    "        \"\"\"Remove product from the cart.\"\"\"\n",
    "        if product in self.items_in_cart:\n",
    "            del self.items_in_cart[product]\n",
    "            print product + \" removed.\"\n",
    "        else:\n",
    "            print product + \" is not in the cart.\"\n",
    "\n",
    "\n",
    "my_cart = ShoppingCart(\"Jing\")\n",
    "\n",
    "my_cart.add_item(\"cloth\", 324)\n",
    "print ShoppingCart"
   ]
  },
  {
   "cell_type": "code",
   "execution_count": 24,
   "metadata": {
    "collapsed": false
   },
   "outputs": [
    {
     "name": "stdout",
     "output_type": "stream",
     "text": [
      "employee init Steve\n",
      "employee init Emily\n",
      "Hello, Emily\n",
      "Get back to work, Steve!\n"
     ]
    }
   ],
   "source": [
    "\n",
    "class Employee(object):\n",
    "    def __init__(self, name):\n",
    "        print \"employee init\", name\n",
    "        self.name = name\n",
    "    def greet(self, other):\n",
    "        print \"Hello, %s\" % other.name\n",
    "\n",
    "class CEO(Employee):\n",
    "    def greet(self, other):\n",
    "        print \"Get back to work, %s!\" % other.name\n",
    "\n",
    "emp = Employee(\"Steve\")\n",
    "ceo = CEO(\"Emily\")\n",
    "\n",
    "emp.greet(ceo)\n",
    "# Hello, Emily\n",
    "ceo.greet(emp)\n",
    "# Get back to work, Steve!"
   ]
  },
  {
   "cell_type": "code",
   "execution_count": 30,
   "metadata": {
    "collapsed": false
   },
   "outputs": [],
   "source": [
    "class Triangle(object):\n",
    "    def __init__(self, angle1, angle2, angle3):\n",
    "       self.angle1 = angle1\n",
    "       self.angle2 = angle2\n",
    "       self.angle3 = angle3\n",
    "a = Triangle(30, 60, 90)    "
   ]
  },
  {
   "cell_type": "code",
   "execution_count": 40,
   "metadata": {
    "collapsed": false
   },
   "outputs": [
    {
     "name": "stdout",
     "output_type": "stream",
     "text": [
      "3\n",
      "True\n",
      "60 59\n"
     ]
    }
   ],
   "source": [
    "class Triangle(object):\n",
    "    def __init__(self, angle1, angle2, angle3):\n",
    "       self.angle1 = angle1\n",
    "       self.angle2 = angle2\n",
    "       self.angle3 = angle3\n",
    "    \n",
    "    number_of_sides = 3   \n",
    "    \n",
    "    def check_angles(self):\n",
    "        if self.angle1 + self.angle2 +self.angle3 ==180:\n",
    "            return True\n",
    "        else:\n",
    "            return False\n",
    "            \n",
    "            \n",
    "my_triangle = Triangle(90, 30, 60)\n",
    "\n",
    "print my_triangle.number_of_sides\n",
    "print my_triangle.check_angles()\n",
    "angle =59\n",
    "class Equilateral(Triangle):\n",
    "    angle = 60\n",
    "    def __init__(self):\n",
    "        self.angle1 = self.angle\n",
    "        self.angle2 = angle\n",
    "        self.angle3 = angle\n",
    "        print self.angle1, self.angle2\n",
    "\n",
    "        \n",
    "aa = Equilateral()  "
   ]
  },
  {
   "cell_type": "code",
   "execution_count": 46,
   "metadata": {
    "collapsed": false
   },
   "outputs": [
    {
     "name": "stdout",
     "output_type": "stream",
     "text": [
      "new\n",
      "used\n"
     ]
    }
   ],
   "source": [
    "class Car(object):\n",
    "    condition = \"new\"\n",
    "    def __init__(self, model, color, mpg):\n",
    "        self.model = model\n",
    "        self.color = color\n",
    "        self.mpg   = mpg\n",
    "        \n",
    "        \n",
    "    def display_car(self):\n",
    "        print \"!!!\"\n",
    "        return \"This is a \" + self.color + \" \" + self.model +  \" with \" + str(self.mpg) + \" MPG.\"\n",
    "         \n",
    "         \n",
    "    def drive_car(self):\n",
    "        self.condition = \"used\"\n",
    "        \n",
    "my_car = Car(\"DeLorean\", \"silver\", 88)\n",
    "# print my_car.display_car()\n",
    "# print my_car.model\n",
    "# print my_car.color\n",
    "# print my_car.mpg\n",
    "print my_car.condition\n",
    "my_car.drive_car()\n",
    "print my_car.condition\n"
   ]
  }
 ],
 "metadata": {
  "kernelspec": {
   "display_name": "Python 2",
   "language": "python",
   "name": "python2"
  },
  "language_info": {
   "codemirror_mode": {
    "name": "ipython",
    "version": 2
   },
   "file_extension": ".py",
   "mimetype": "text/x-python",
   "name": "python",
   "nbconvert_exporter": "python",
   "pygments_lexer": "ipython2",
   "version": "2.7.10"
  }
 },
 "nbformat": 4,
 "nbformat_minor": 2
}
