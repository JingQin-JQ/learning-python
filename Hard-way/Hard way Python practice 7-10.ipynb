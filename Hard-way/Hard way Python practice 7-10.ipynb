{
 "cells": [
  {
   "cell_type": "code",
   "execution_count": null,
   "metadata": {
    "collapsed": false,
    "deletable": true,
    "editable": true
   },
   "outputs": [],
   "source": [
    "print \"Mary had a little lamb.\"\n",
    "print \"Its fleece was white as %s.\" % 'snow'\n",
    "print \"And everywhere that Mary went.\"\n",
    "print \".\" * 10  # what'd that do?\n",
    "\n",
    "end1 = \"C\"\n",
    "end2 = \"h\"\n",
    "end3 = \"e\"\n",
    "end4 = \"e\"\n",
    "end5 = \"s\"\n",
    "end6 = \"e\"\n",
    "end7 = \"B\"\n",
    "end8 = \"u\"\n",
    "end9 = \"r\"\n",
    "end10 = \"g\"\n",
    "end11 = \"e\"\n",
    "end12 = \"r\"\n",
    "\n",
    "# watch that comma at the end.  try removing it to see what happens\n",
    "print end1 + end2 + end3 + end4 + end5 + end6,\n",
    "print end7 + end8 + end9 + end10 + end11 + end12"
   ]
  },
  {
   "cell_type": "code",
   "execution_count": null,
   "metadata": {
    "collapsed": false,
    "deletable": true,
    "editable": true
   },
   "outputs": [],
   "source": [
    "print \"Mary had a little lamb.\"\n",
    "print \"Its fleece was white as %s.\" % 'snow'\n",
    "print \"And everywhere that Mary went.\"\n",
    "print \".\" *10 #what'd that do?\n",
    "\n",
    "end1 = \"C\"\n",
    "end2 = \"h\"\n",
    "end3 = \"e\"\n",
    "end4 = \"e\"\n",
    "end5 = \"s\"\n",
    "end6 = \"e\"\n",
    "end7 = \"B\"\n",
    "end8 = \"u\"\n",
    "end9 = \"r\"\n",
    "end10 = \"g\"\n",
    "end11 = \"e\"\n",
    "end12 = \"r\"\n",
    "\n",
    "# watch that comma at the end. try removing it to see what happens\n",
    "print end1 + end2 + end3 + end4 + end5 + end6,\n",
    "print end7 + end8 + end9 + end10 + end11 + end12\n"
   ]
  },
  {
   "cell_type": "code",
   "execution_count": null,
   "metadata": {
    "collapsed": false,
    "deletable": true,
    "editable": true
   },
   "outputs": [],
   "source": [
    "formatter = \"%r %r %r %r\"\n",
    "\n",
    "print formatter % (1, 2, 3, 4)\n",
    "print formatter % (\"one\", \"two\", \"three\", \"four\")\n",
    "print formatter % (True, False, False, True)\n",
    "print formatter % (formatter, formatter, formatter, formatter)\n",
    "print formatter % (\n",
    "    \"I had this thing.\",\n",
    "    \"That you could type up right.\",\n",
    "    \"But it didn't sing.\",\n",
    "    \"So I said goodnight.\"\n",
    ")"
   ]
  },
  {
   "cell_type": "code",
   "execution_count": 2,
   "metadata": {
    "collapsed": false,
    "deletable": true,
    "editable": true
   },
   "outputs": [
    {
     "name": "stdout",
     "output_type": "stream",
     "text": [
      "1 2 3 4\n",
      "'one' 'two' 'three' 'four'\n",
      "True False True False\n",
      "'%r %r %r %r' '%r %r %r %r' '%r %r %r %r' '%r %r %r %r'\n",
      "'I  had this thing.' 'That you could type up right.' \"But it didn't sing.\" 'So I said goodnight.'\n"
     ]
    }
   ],
   "source": [
    "formatter = \"%r %r %r %r\"\n",
    "print formatter % (1,2,3,4)\n",
    "print formatter % (\"one\", \"two\", \"three\", \"four\") #it was %r why numbers and strings also work\n",
    "print formatter % (True, False, True, False)\n",
    "print formatter % (formatter, formatter, formatter, formatter)\n",
    "print formatter % (\n",
    "      \"I  had this thing.\",\n",
    "      \"That you could type up right.\",\n",
    "      \"But it didn't sing.\", # why here print out \"\" instead of ''\n",
    "      \"So I said goodnight.\")"
   ]
  },
  {
   "cell_type": "code",
   "execution_count": 7,
   "metadata": {
    "collapsed": false
   },
   "outputs": [
    {
     "name": "stdout",
     "output_type": "stream",
     "text": [
      "'as' 'asdf' 'adf'\n"
     ]
    }
   ],
   "source": [
    "print \"'as' 'asdf' 'adf'\""
   ]
  },
  {
   "cell_type": "code",
   "execution_count": null,
   "metadata": {
    "collapsed": false,
    "deletable": true,
    "editable": true
   },
   "outputs": [],
   "source": [
    "# Here's some new strange stuff, remember type it exactly.\n",
    "\n",
    "days = \"Mon Tue Wed Thu Fri Sat Sun\"\n",
    "months = \"Jan\\nFeb\\nMar\\nApr\\nMay\\nJun\\nJul\\nAug\"\n",
    "\n",
    "print \"Here are the days: \", days\n",
    "print \"Here are the months: \", months\n",
    "\n",
    "print \"\"\"\n",
    "There's something going on here.\n",
    "With the three double-quotes.\n",
    "We'll be able to type as much as we like.\n",
    "Even 4 lines if we want, or 5, or 6.\n",
    "\"\"\""
   ]
  },
  {
   "cell_type": "code",
   "execution_count": null,
   "metadata": {
    "collapsed": false,
    "deletable": true,
    "editable": true
   },
   "outputs": [],
   "source": [
    "# Here is some new strange stuff, remember type it exactly.\n",
    "days = \"Mon Tue Wed Thu Fri Sat Sun\"\n",
    "months = \" \\nJan\\nFeb\\nMar\\nApr\\nMAy\\nJun\\nJul\\nAug Sep\"\n",
    "\n",
    "print \"Here are the days:\", days\n",
    "print \"Here are the month:\", months\n",
    "\n",
    "print \"\"\"\n",
    "There's somthing going on here.\n",
    "With the three double-quotes.\n",
    "We'll be able tp type ad much as we like.\n",
    "Even 4 lines if we want, or 8, or 6.\n",
    "\"\"\""
   ]
  },
  {
   "cell_type": "code",
   "execution_count": null,
   "metadata": {
    "collapsed": false,
    "deletable": true,
    "editable": true
   },
   "outputs": [],
   "source": [
    "tabby_cat = \"\\tI'm tabbed in.\"\n",
    "persian_cat = \"I'm split\\non a line.\"\n",
    "backslash_cat = \"I'm \\\\ a \\\\ cat.\"\n",
    "\n",
    "fat_cat = \"\"\"\n",
    "I'll do a list:\n",
    "\\t* Cat food\n",
    "\\t* Fishies\n",
    "\\t* Catnip\\n\\t* Grass\n",
    "\"\"\"\n",
    "\n",
    "print tabby_cat\n",
    "print persian_cat\n",
    "print backslash_cat\n",
    "print fat_cat"
   ]
  },
  {
   "cell_type": "code",
   "execution_count": null,
   "metadata": {
    "collapsed": false,
    "deletable": true,
    "editable": true
   },
   "outputs": [],
   "source": [
    "tabby_cat = \"\\tI'm tabbed in.\"\n",
    "persian_cat = \"I'm split\\non a line.\"\n",
    "backlash_cat = \"I'm \\\\a\\\\ cat.\"\n",
    "\n",
    "fat_cat = \"\"\"\n",
    "I'll do a list:\n",
    "\\t* Cat food\n",
    "\\t* Fidhies\n",
    "\\t* Catnip\\n\\t* Grass\n",
    "\"\"\"\n",
    "\n",
    "\n",
    "print tabby_cat\n",
    "print persian_cat\n",
    "print backslash_cat\n",
    "print fat_cat"
   ]
  },
  {
   "cell_type": "code",
   "execution_count": null,
   "metadata": {
    "collapsed": false,
    "deletable": true,
    "editable": true
   },
   "outputs": [],
   "source": [
    "while True:\n",
    "    for i in [\"/\",\"-\",\"|\",\"\\\\\",\"|\"]:\n",
    "        print \"%s\\r\" % i,"
   ]
  },
  {
   "cell_type": "code",
   "execution_count": null,
   "metadata": {
    "collapsed": false,
    "deletable": true,
    "editable": true,
    "scrolled": true
   },
   "outputs": [],
   "source": [
    "# Here is some new strange stuff, remember type it exactly.\n",
    "days = \"Mon Tue Wed Thu Fri Sat Sun\"\n",
    "months = \" \\nJan\\nFeb\\nMar\\nApr\\nMAy\\nJun\\nJul\\nAug Sep\"\n",
    "\n",
    "print \"Here are the days:\", days\n",
    "print \"Here are the month:\", months\n",
    "\n",
    "print \"\"\"\n",
    "There's somthing going on here.\n",
    "With the three double-quotes.\n",
    "We'll be able tp type ad much as we like.\n",
    "Even 4 lines if we want, or 8, or 6.\n",
    "\"\"\""
   ]
  },
  {
   "cell_type": "code",
   "execution_count": null,
   "metadata": {
    "collapsed": true,
    "deletable": true,
    "editable": true
   },
   "outputs": [],
   "source": [
    "# Here is some new strange stuff, remember type it exactly.\n",
    "days = \"Mon Tue Wed Thu Fri Sat Sun\"\n",
    "months = \" \\nJan\\nFeb\\nMar\\nApr\\nMAy\\nJun\\nJul\\nAug Sep\"\n",
    "\n",
    "print \"Here are the days:\", days\n",
    "print \"Here are the month:\", months\n",
    "\n",
    "print \"\"\"\n",
    "There's somthing going on here.\n",
    "With the three double-quotes.\n",
    "We'll be able tp type ad much as we like.\n",
    "Even 4 lines if we want, or 8, or 6.\n",
    "\"\"\""
   ]
  },
  {
   "cell_type": "code",
   "execution_count": null,
   "metadata": {
    "collapsed": false,
    "deletable": true,
    "editable": true
   },
   "outputs": [],
   "source": [
    "# Here is some new strange stuff, remember type it exactly.\n",
    "days = \"Mon Tue Wed Thu Fri Sat Sun\"\n",
    "months = \" \\nJan\\nFeb\\nMar\\nApr\\nMAy\\nJun\\nJul\\nAug Sep\"\n",
    "\n",
    "print \"Here are the days:\", days\n",
    "print \"Here are the month:\", months\n",
    "\n",
    "print \"\"\"\n",
    "There's somthing going on here.\n",
    "With the three double-quotes.\n",
    "We'll be able tp type ad much as we like.\n",
    "Even 4 lines if we want, or 8, or 6.\n",
    "\"\"\""
   ]
  },
  {
   "cell_type": "raw",
   "metadata": {
    "deletable": true,
    "editable": true
   },
   "source": []
  },
  {
   "cell_type": "code",
   "execution_count": null,
   "metadata": {
    "collapsed": false,
    "deletable": true,
    "editable": true,
    "scrolled": true
   },
   "outputs": [],
   "source": [
    "while True:\n",
    "    for i in [\"/\",\"-\",\"|\",\"\\\\\",\"|\"]:\n",
    "        print \"%s\\r\" % i,"
   ]
  },
  {
   "cell_type": "code",
   "execution_count": null,
   "metadata": {
    "collapsed": false,
    "deletable": true,
    "editable": true,
    "scrolled": true
   },
   "outputs": [],
   "source": [
    "print \"sd\""
   ]
  },
  {
   "cell_type": "code",
   "execution_count": null,
   "metadata": {
    "collapsed": true,
    "deletable": true,
    "editable": true
   },
   "outputs": [],
   "source": []
  },
  {
   "cell_type": "code",
   "execution_count": null,
   "metadata": {
    "collapsed": false,
    "deletable": true,
    "editable": true
   },
   "outputs": [],
   "source": [
    "print \"sd\""
   ]
  },
  {
   "cell_type": "code",
   "execution_count": null,
   "metadata": {
    "collapsed": true,
    "deletable": true,
    "editable": true
   },
   "outputs": [],
   "source": [
    "open"
   ]
  },
  {
   "cell_type": "code",
   "execution_count": null,
   "metadata": {
    "collapsed": true,
    "deletable": true,
    "editable": true
   },
   "outputs": [],
   "source": []
  },
  {
   "cell_type": "code",
   "execution_count": null,
   "metadata": {
    "collapsed": true,
    "deletable": true,
    "editable": true
   },
   "outputs": [],
   "source": []
  },
  {
   "cell_type": "code",
   "execution_count": null,
   "metadata": {
    "collapsed": true,
    "deletable": true,
    "editable": true
   },
   "outputs": [],
   "source": []
  }
 ],
 "metadata": {
  "kernelspec": {
   "display_name": "Python 2",
   "language": "python",
   "name": "python2"
  },
  "language_info": {
   "codemirror_mode": {
    "name": "ipython",
    "version": 2
   },
   "file_extension": ".py",
   "mimetype": "text/x-python",
   "name": "python",
   "nbconvert_exporter": "python",
   "pygments_lexer": "ipython2",
   "version": "2.7.10"
  }
 },
 "nbformat": 4,
 "nbformat_minor": 2
}
