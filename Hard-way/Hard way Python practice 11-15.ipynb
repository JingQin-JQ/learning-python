{
 "cells": [
  {
   "cell_type": "code",
   "execution_count": 1,
   "metadata": {
    "collapsed": false,
    "deletable": true,
    "editable": true
   },
   "outputs": [
    {
     "name": "stdout",
     "output_type": "stream",
     "text": [
      "sd\n"
     ]
    }
   ],
   "source": [
    "print \"sd\""
   ]
  },
  {
   "cell_type": "code",
   "execution_count": 7,
   "metadata": {
    "collapsed": false,
    "deletable": true,
    "editable": true
   },
   "outputs": [
    {
     "name": "stdout",
     "output_type": "stream",
     "text": [
      "hi i said '\\n what' to you.\n"
     ]
    }
   ],
   "source": [
    "print \"hi i said %r to you.\" % '\\n what'\n"
   ]
  },
  {
   "cell_type": "code",
   "execution_count": 8,
   "metadata": {
    "collapsed": false,
    "deletable": true,
    "editable": true
   },
   "outputs": [
    {
     "name": "stdout",
     "output_type": "stream",
     "text": [
      "hi i said \n",
      " what to you.\n"
     ]
    }
   ],
   "source": [
    "print \"hi i said %s to you.\" % '\\n what' #  %r is for debugging, %s is for displaying."
   ]
  },
  {
   "cell_type": "code",
   "execution_count": 1,
   "metadata": {
    "collapsed": false,
    "deletable": true,
    "editable": true
   },
   "outputs": [
    {
     "name": "stdout",
     "output_type": "stream",
     "text": [
      "How old are you?\n",
      "5\n",
      "How tall are you?\n"
     ]
    },
    {
     "ename": "KeyboardInterrupt",
     "evalue": "",
     "output_type": "error",
     "traceback": [
      "\u001b[0;31m---------------------------------------------------------------------------\u001b[0m",
      "\u001b[0;31mKeyboardInterrupt\u001b[0m                         Traceback (most recent call last)",
      "\u001b[0;32m<ipython-input-1-287828cf7d22>\u001b[0m in \u001b[0;36m<module>\u001b[0;34m()\u001b[0m\n\u001b[1;32m      3\u001b[0m \u001b[0;34m\u001b[0m\u001b[0m\n\u001b[1;32m      4\u001b[0m \u001b[0;32mprint\u001b[0m \u001b[0;34m\"How tall are you?\"\u001b[0m\u001b[0;34m\u001b[0m\u001b[0m\n\u001b[0;32m----> 5\u001b[0;31m \u001b[0mheight\u001b[0m \u001b[0;34m=\u001b[0m \u001b[0mraw_input\u001b[0m\u001b[0;34m(\u001b[0m\u001b[0;34m)\u001b[0m\u001b[0;34m\u001b[0m\u001b[0m\n\u001b[0m\u001b[1;32m      6\u001b[0m \u001b[0;32mprint\u001b[0m \u001b[0;34m\"How much do you weigh?\"\u001b[0m\u001b[0;34m\u001b[0m\u001b[0m\n\u001b[1;32m      7\u001b[0m \u001b[0mweight\u001b[0m \u001b[0;34m=\u001b[0m \u001b[0mraw_input\u001b[0m\u001b[0;34m(\u001b[0m\u001b[0;34m)\u001b[0m\u001b[0;34m\u001b[0m\u001b[0m\n",
      "\u001b[0;32m/Users/jingqin/venv2/lib/python2.7/site-packages/ipykernel/kernelbase.pyc\u001b[0m in \u001b[0;36mraw_input\u001b[0;34m(self, prompt)\u001b[0m\n\u001b[1;32m    692\u001b[0m             \u001b[0mself\u001b[0m\u001b[0;34m.\u001b[0m\u001b[0m_parent_ident\u001b[0m\u001b[0;34m,\u001b[0m\u001b[0;34m\u001b[0m\u001b[0m\n\u001b[1;32m    693\u001b[0m             \u001b[0mself\u001b[0m\u001b[0;34m.\u001b[0m\u001b[0m_parent_header\u001b[0m\u001b[0;34m,\u001b[0m\u001b[0;34m\u001b[0m\u001b[0m\n\u001b[0;32m--> 694\u001b[0;31m             \u001b[0mpassword\u001b[0m\u001b[0;34m=\u001b[0m\u001b[0mFalse\u001b[0m\u001b[0;34m,\u001b[0m\u001b[0;34m\u001b[0m\u001b[0m\n\u001b[0m\u001b[1;32m    695\u001b[0m         )\n\u001b[1;32m    696\u001b[0m \u001b[0;34m\u001b[0m\u001b[0m\n",
      "\u001b[0;32m/Users/jingqin/venv2/lib/python2.7/site-packages/ipykernel/kernelbase.pyc\u001b[0m in \u001b[0;36m_input_request\u001b[0;34m(self, prompt, ident, parent, password)\u001b[0m\n\u001b[1;32m    722\u001b[0m             \u001b[0;32mexcept\u001b[0m \u001b[0mKeyboardInterrupt\u001b[0m\u001b[0;34m:\u001b[0m\u001b[0;34m\u001b[0m\u001b[0m\n\u001b[1;32m    723\u001b[0m                 \u001b[0;31m# re-raise KeyboardInterrupt, to truncate traceback\u001b[0m\u001b[0;34m\u001b[0m\u001b[0;34m\u001b[0m\u001b[0m\n\u001b[0;32m--> 724\u001b[0;31m                 \u001b[0;32mraise\u001b[0m \u001b[0mKeyboardInterrupt\u001b[0m\u001b[0;34m\u001b[0m\u001b[0m\n\u001b[0m\u001b[1;32m    725\u001b[0m             \u001b[0;32melse\u001b[0m\u001b[0;34m:\u001b[0m\u001b[0;34m\u001b[0m\u001b[0m\n\u001b[1;32m    726\u001b[0m                 \u001b[0;32mbreak\u001b[0m\u001b[0;34m\u001b[0m\u001b[0m\n",
      "\u001b[0;31mKeyboardInterrupt\u001b[0m: "
     ]
    },
    {
     "name": "stdout",
     "output_type": "stream",
     "text": [
      "sadf\n"
     ]
    }
   ],
   "source": [
    "print \"How old are you?\"\n",
    "age = raw_input()   # i didn't ask for print what i inputed\n",
    "\n",
    "print \"How tall are you?\"\n",
    "height = raw_input()\n",
    "print \"How much do you weigh?\"\n",
    "weight = raw_input()\n",
    "\n",
    "print \"So, you're %r old, %r tall and %r heavy.\" % (\n",
    "    age, height, weight)"
   ]
  },
  {
   "cell_type": "code",
   "execution_count": 1,
   "metadata": {
    "collapsed": false,
    "deletable": true,
    "editable": true
   },
   "outputs": [
    {
     "name": "stdout",
     "output_type": "stream",
     "text": [
      "How old are you? 32\n",
      "How tall are you? 42\n",
      "How much do you weigh? 32\n",
      "So, you're '32' old, '42' tall and '32' heavy.\n"
     ]
    }
   ],
   "source": [
    "age = raw_input(\"How old are you? \")\n",
    "height = raw_input(\"How tall are you? \")\n",
    "weight = raw_input(\"How much do you weigh? \") # how to get help with spelling :Tab\n",
    "\n",
    "print \"So, you're %r old, %r tall and %r heavy.\" % (\n",
    "    age, height, weight)"
   ]
  },
  {
   "cell_type": "code",
   "execution_count": null,
   "metadata": {
    "collapsed": true
   },
   "outputs": [],
   "source": []
  },
  {
   "cell_type": "code",
   "execution_count": 2,
   "metadata": {
    "collapsed": true,
    "deletable": true,
    "editable": true
   },
   "outputs": [],
   "source": [
    "jingqin_list = range()"
   ]
  },
  {
   "cell_type": "code",
   "execution_count": 3,
   "metadata": {
    "collapsed": true,
    "deletable": true,
    "editable": true
   },
   "outputs": [],
   "source": [
    "def fun(x):\n",
    "    return x"
   ]
  },
  {
   "cell_type": "code",
   "execution_count": 11,
   "metadata": {
    "collapsed": false,
    "deletable": true,
    "editable": true
   },
   "outputs": [],
   "source": [
    "def fun(x):\n",
    "    \"\"\"\n",
    "    this is the first function create by Jing Qin\n",
    "    Input: x asdfas\n",
    "    Return laskdjf\n",
    "    \"\"\"\n",
    "    return x+1\n"
   ]
  },
  {
   "cell_type": "code",
   "execution_count": null,
   "metadata": {
    "collapsed": true,
    "deletable": true,
    "editable": true
   },
   "outputs": [],
   "source": [
    "x = 23\n",
    "print fun()"
   ]
  },
  {
   "cell_type": "code",
   "execution_count": 10,
   "metadata": {
    "collapsed": false,
    "deletable": true,
    "editable": true
   },
   "outputs": [
    {
     "name": "stdout",
     "output_type": "stream",
     "text": [
      "2\n"
     ]
    }
   ],
   "source": [
    "x = 1\n",
    "print fun(x)"
   ]
  },
  {
   "cell_type": "code",
   "execution_count": 16,
   "metadata": {
    "collapsed": false,
    "deletable": true,
    "editable": true
   },
   "outputs": [
    {
     "ename": "ValueError",
     "evalue": "need more than 3 values to unpack",
     "output_type": "error",
     "traceback": [
      "\u001b[0;31m---------------------------------------------------------------------------\u001b[0m",
      "\u001b[0;31mValueError\u001b[0m                                Traceback (most recent call last)",
      "\u001b[0;32m<ipython-input-16-4f1c22c0291c>\u001b[0m in \u001b[0;36m<module>\u001b[0;34m()\u001b[0m\n\u001b[1;32m      1\u001b[0m \u001b[0;32mfrom\u001b[0m \u001b[0msys\u001b[0m \u001b[0;32mimport\u001b[0m \u001b[0margv\u001b[0m\u001b[0;34m\u001b[0m\u001b[0m\n\u001b[1;32m      2\u001b[0m \u001b[0;34m\u001b[0m\u001b[0m\n\u001b[0;32m----> 3\u001b[0;31m \u001b[0mscript\u001b[0m\u001b[0;34m,\u001b[0m \u001b[0mfirst\u001b[0m\u001b[0;34m,\u001b[0m \u001b[0msecond\u001b[0m\u001b[0;34m,\u001b[0m \u001b[0mthird\u001b[0m \u001b[0;34m=\u001b[0m \u001b[0margv\u001b[0m\u001b[0;34m\u001b[0m\u001b[0m\n\u001b[0m\u001b[1;32m      4\u001b[0m \u001b[0;34m\u001b[0m\u001b[0m\n\u001b[1;32m      5\u001b[0m \u001b[0;32mprint\u001b[0m \u001b[0;34m\"The script is called:\"\u001b[0m\u001b[0;34m,\u001b[0m \u001b[0mscript\u001b[0m\u001b[0;34m\u001b[0m\u001b[0m\n",
      "\u001b[0;31mValueError\u001b[0m: need more than 3 values to unpack"
     ]
    }
   ],
   "source": [
    "from sys import argv\n",
    "\n",
    "script, first, second, third = argv\n",
    "\n",
    "print \"The script is called:\", script\n",
    "print \"Your first variable is:\", first\n",
    "print \"Your second variable is:\", second\n",
    "print \"Your third variable is:\", third"
   ]
  },
  {
   "cell_type": "code",
   "execution_count": 17,
   "metadata": {
    "collapsed": false,
    "deletable": true,
    "editable": true
   },
   "outputs": [
    {
     "ename": "ValueError",
     "evalue": "too many values to unpack",
     "output_type": "error",
     "traceback": [
      "\u001b[0;31m---------------------------------------------------------------------------\u001b[0m",
      "\u001b[0;31mValueError\u001b[0m                                Traceback (most recent call last)",
      "\u001b[0;32m<ipython-input-17-d47f2dea291f>\u001b[0m in \u001b[0;36m<module>\u001b[0;34m()\u001b[0m\n\u001b[1;32m      1\u001b[0m \u001b[0;32mfrom\u001b[0m \u001b[0msys\u001b[0m \u001b[0;32mimport\u001b[0m \u001b[0margv\u001b[0m\u001b[0;34m\u001b[0m\u001b[0m\n\u001b[1;32m      2\u001b[0m \u001b[0;34m\u001b[0m\u001b[0m\n\u001b[0;32m----> 3\u001b[0;31m \u001b[0mscript\u001b[0m\u001b[0;34m,\u001b[0m \u001b[0muser_name\u001b[0m \u001b[0;34m=\u001b[0m \u001b[0margv\u001b[0m\u001b[0;34m\u001b[0m\u001b[0m\n\u001b[0m\u001b[1;32m      4\u001b[0m \u001b[0mprompt\u001b[0m \u001b[0;34m=\u001b[0m \u001b[0;34m'> '\u001b[0m\u001b[0;34m\u001b[0m\u001b[0m\n\u001b[1;32m      5\u001b[0m \u001b[0;34m\u001b[0m\u001b[0m\n",
      "\u001b[0;31mValueError\u001b[0m: too many values to unpack"
     ]
    }
   ],
   "source": [
    "from sys import argv\n",
    "\n",
    "script, user_name = argv\n",
    "prompt = '> '\n",
    "\n",
    "print \"Hi %s, I'm the %s script.\" % (user_name, script)\n",
    "print \"I'd like to ask you a few questions.\"\n",
    "print \"Do you like me %s?\" % user_name\n",
    "likes = raw_input(prompt)\n",
    "\n",
    "print \"Where do you live %s?\" % user_name\n",
    "lives = raw_input(prompt)\n",
    "\n",
    "print \"What kind of computer do you have?\"\n",
    "computer = raw_input(prompt)\n",
    "\n",
    "print \"\"\"\n",
    "Alright, so you said %r about liking me.\n",
    "You live in %r.  Not sure where that is.\n",
    "And you have a %r computer.  Nice.\n",
    "\"\"\" % (likes, lives, computer)"
   ]
  },
  {
   "cell_type": "code",
   "execution_count": null,
   "metadata": {
    "collapsed": false,
    "deletable": true,
    "editable": true
   },
   "outputs": [
    {
     "name": "stdout",
     "output_type": "stream",
     "text": [
      "---------------------------------------------------------\n",
      "Welcome to Zork - The Unofficial Python Version.\n",
      "---------------------------------------------------------\n",
      "You are standing in an open field west of a white house, with a boarded front door.\n",
      "(A secret path leads southwest into the forest.)\n",
      "There is a Small Mailbox.\n",
      "What do you do? open the mailbox\n",
      "---------------------------------------------------------\n",
      "---------------------------------------------------------\n",
      "You are standing in an open field west of a white house, with a boarded front door.\n",
      "(A secret path leads southwest into the forest.)\n",
      "There is a Small Mailbox.\n",
      "What do you do? open mailbox\n",
      "---------------------------------------------------------\n",
      "Opening the small mailbox reveals a leaflet.\n",
      "---------------------------------------------------------\n",
      "---------------------------------------------------------\n",
      "You are standing in an open field west of a white house, with a boarded front door.\n",
      "(A secret path leads southwest into the forest.)\n",
      "There is a Small Mailbox.\n",
      "What do you do? read leaflet\n",
      "---------------------------------------------------------\n",
      "Welcome to the Unofficial Python Version of Zork. Your mission is to find a Jade Statue.\n",
      "---------------------------------------------------------\n",
      "---------------------------------------------------------\n",
      "You are standing in an open field west of a white house, with a boarded front door.\n",
      "(A secret path leads southwest into the forest.)\n",
      "There is a Small Mailbox.\n",
      "What do you do? go west\n",
      "---------------------------------------------------------\n",
      "---------------------------------------------------------\n",
      "You are standing in an open field west of a white house, with a boarded front door.\n",
      "(A secret path leads southwest into the forest.)\n",
      "There is a Small Mailbox.\n",
      "What do you do? open door\n",
      "---------------------------------------------------------\n",
      "The door cannot be opened.\n",
      "---------------------------------------------------------\n",
      "---------------------------------------------------------\n",
      "You are standing in an open field west of a white house, with a boarded front door.\n",
      "(A secret path leads southwest into the forest.)\n",
      "There is a Small Mailbox.\n",
      "What do you do? go southwest\n",
      "---------------------------------------------------------\n",
      "This is a forest, with trees in all directions. To the east, there appears to be sunlight.\n",
      "What do you do? go east\n",
      "---------------------------------------------------------\n",
      "You are in a clearing, with a forest surrounding you on all sides. A path leads south.\n",
      "There is an open grating, descending into darkness.\n",
      "What do you do? open grating\n",
      "---------------------------------------------------------\n",
      "---------------------------------------------------------\n",
      "You are in a clearing, with a forest surrounding you on all sides. A path leads south.\n",
      "There is an open grating, descending into darkness.\n",
      "What do you do? go south\n",
      "---------------------------------------------------------\n",
      "You see a large ogre and turn around.\n",
      "---------------------------------------------------------\n",
      "---------------------------------------------------------\n",
      "You are in a clearing, with a forest surrounding you on all sides. A path leads south.\n",
      "There is an open grating, descending into darkness.\n",
      "What do you do? descend grating\n",
      "---------------------------------------------------------\n",
      "You are in a tiny cave with a dark, forbidding staircase leading down.\n",
      "There is a skeleton of a human male in one corner.\n"
     ]
    }
   ],
   "source": [
    "# Introduction narration of game\n",
    "import string\n",
    "loop = 3\n",
    "while loop == 3:\n",
    "\tprint(\"---------------------------------------------------------\")\n",
    "\tprint(\"Welcome to Zork - The Unofficial Python Version.\")\n",
    "\tprint(\"---------------------------------------------------------\")\n",
    "\tprint(\"You are standing in an open field west of a white house, with a boarded front door.\")\n",
    "\tprint(\"(A secret path leads southwest into the forest.)\")\n",
    "\tprint(\"There is a Small Mailbox.\")\n",
    "\n",
    "\n",
    "\t# First Screen and Input\n",
    "\tfirst = raw_input(\"What do you do? \")\n",
    "\tif first.lower() == (\"take mailbox\"):\n",
    "\t\tprint(\"---------------------------------------------------------\")\n",
    "\t\tprint(\"You cannot be serious.\")\n",
    "\t\tloop = 4\n",
    "\tif first.lower() == (\"open mailbox\"):\n",
    "\t\tprint(\"---------------------------------------------------------\")\n",
    "\t\tprint(\"Opening the small mailbox reveals a leaflet.\")\n",
    "\t\tloop = 4\n",
    "\tif first.lower() == (\"go east\"):\n",
    "\t\tprint(\"---------------------------------------------------------\")\n",
    "\t\tprint(\"The door is boarded and you cannot remove the boards.\")\n",
    "\t\tloop = 4\n",
    "\tif first.lower() == (\"open door\"):\n",
    "\t\tprint(\"---------------------------------------------------------\")\n",
    "\t\tprint(\"The door cannot be opened.\")\n",
    "\t\tloop = 4\n",
    "\tif first.lower() == (\"take boards\"):\n",
    "\t\tprint(\"---------------------------------------------------------\")\n",
    "\t\tprint(\"The boards are securely fastened.\")\n",
    "\t\tloop = 4\n",
    "\tif first.lower() == (\"look at house\"):\n",
    "\t\tprint(\"---------------------------------------------------------\")\n",
    "\t\tprint(\"The house is a beautiful colonial house which is painted white. It is clear that the owners must have been extremely wealthy.\")\n",
    "\t\tloop = 4\n",
    "\tif first.lower() == (\"read leaflet\"):\n",
    "\t\tprint(\"---------------------------------------------------------\")\n",
    "\t\tprint(\"Welcome to the Unofficial Python Version of Zork. Your mission is to find a Jade Statue.\")\n",
    "\t\tloop = 4\n",
    "\tif first.lower() == (\"go southwest\"):\n",
    "\t\tloop = 8\n",
    "\telse:\n",
    "\t\tprint(\"---------------------------------------------------------\")\n",
    "\t\tloop = 4\n",
    "\t\n",
    "\n",
    "\t# First Input Loop\n",
    "\twhile loop == 4:\n",
    "\t\tif loop == 4:\n",
    "\t\t\tprint(\"---------------------------------------------------------\")\n",
    "\t\t\tprint(\"You are standing in an open field west of a white house, with a boarded front door.\")\n",
    "\t\t\tprint(\"(A secret path leads southwest into the forest.)\")\n",
    "\t\t\tprint(\"There is a Small Mailbox.\")\n",
    "\t\t\tsecond = raw_input(\"What do you do? \")\n",
    "\t\tif second.lower() == (\"take mailbox\"):\n",
    "\t\t\tprint(\"---------------------------------------------------------\")\n",
    "\t\t\tprint(\"It is securely anchored.\")\n",
    "\t\t\thello = 2\n",
    "\t\tif second.lower() == (\"open mailbox\"):\n",
    "\t\t\tprint(\"---------------------------------------------------------\")\n",
    "\t\t\tprint(\"Opening the small mailbox reveals a leaflet.\")\n",
    "\t\t\thello = 2\n",
    "\t\tif second.lower() == (\"go east\"):\n",
    "\t\t\tprint(\"---------------------------------------------------------\")\n",
    "\t\t\tprint(\"The door is boarded and you cannot remove the boards.\")\n",
    "\t\t\thello = 2\n",
    "\t\tif second.lower() == (\"open door\"):\n",
    "\t\t\tprint(\"---------------------------------------------------------\")\n",
    "\t\t\tprint(\"The door cannot be opened.\")\n",
    "\t\t\thello = 2\n",
    "\t\tif second.lower() == (\"take boards\"):\n",
    "\t\t\tprint(\"---------------------------------------------------------\")\n",
    "\t\t\tprint(\"The boards are securely fastened.\")\n",
    "\t\t\thello = 2\n",
    "\t\tif second.lower() == (\"look at house\"):\n",
    "\t\t\tprint(\"---------------------------------------------------------\")\n",
    "\t\t\tprint(\"The house is a beautiful colonial house which is painted white. It is clear that the owners must have been extremely wealthy.\")\n",
    "\t\t\thello = 2\n",
    "\t\tif second.lower() == (\"go southwest\"):\n",
    "\t\t\tloop = 8\n",
    "\t\tif second.lower() == (\"read leaflet\"):\n",
    "\t\t\tprint(\"---------------------------------------------------------\")\n",
    "\t\t\tprint(\"Welcome to the Unofficial Python Version of Zork. Your mission is to find a Jade Statue.\")\n",
    "\t\t\tloop = 4\n",
    "\t\tif second.lower() == (\"go southwest\"):\n",
    "\t\t\tloop = 8\n",
    "\t\telse:\n",
    "\t\t\tprint(\"---------------------------------------------------------\")\n",
    "\t\t\tloop = 4\n",
    "\t\n",
    "\n",
    "\t# Southwest Loop\n",
    "\twhile loop == 8:\n",
    "\t\tif loop == 8:\n",
    "\t\t\tprint(\"---------------------------------------------------------\")\n",
    "\t\t\tprint(\"This is a forest, with trees in all directions. To the east, there appears to be sunlight.\")\n",
    "\t\t\tforest_inp = raw_input(\"What do you do? \")\n",
    "\t\tif forest_inp.lower() == (\"go west\"):\n",
    "\t\t\tprint(\"---------------------------------------------------------\")\n",
    "\t\t\tprint(\"You would need a machete to go further west.\")\n",
    "\t\t\tloop = 8\n",
    "\t\tif forest_inp.lower() == (\"go north\"):\n",
    "\t\t\tprint(\"---------------------------------------------------------\")\n",
    "\t\t\tprint(\"The forest becomes impenetrable to the North.\")\n",
    "\t\t\tloop = 8\n",
    "\t\tif forest_inp.lower() == (\"go south\"):\n",
    "\t\t\tprint(\"---------------------------------------------------------\")\n",
    "\t\t\tprint(\"Storm-tossed trees block your way.\")\n",
    "\t\t\tloop = 8\n",
    "\t\tif forest_inp.lower() == (\"go east\"):\n",
    "\t\t\tloop = 9\n",
    "\t\telse:\n",
    "\t\t\tprint(\"---------------------------------------------------------\")\n",
    "\t\t\tloop = 8\n",
    "\t\n",
    "\n",
    "\t# East Loop and Grating Input\n",
    "\twhile loop == 9:\n",
    "\t\tif loop == 9:\n",
    "\t\t\tprint(\"---------------------------------------------------------\")\n",
    "\t\t\tprint(\"You are in a clearing, with a forest surrounding you on all sides. A path leads south.\")\n",
    "\t\t\tprint(\"There is an open grating, descending into darkness.\")\n",
    "\t\t\tgrating_inp = raw_input(\"What do you do? \")\n",
    "\t\tif grating_inp.lower() == (\"go south\"):\n",
    "\t\t\tprint(\"---------------------------------------------------------\")\n",
    "\t\t\tprint(\"You see a large ogre and turn around.\")\n",
    "\t\t\tloop = 9\n",
    "\t\tif grating_inp.lower() == (\"descend grating\"):\n",
    "\t\t\tloop = 10\n",
    "\t\telse:\n",
    "\t\t\tprint(\"---------------------------------------------------------\")\n",
    "\t\t\tloop = 9\t\n",
    "\n",
    "\n",
    "\t# Grating Loop and Cave Input\n",
    "\twhile loop == 10:\n",
    "\t\tif loop == 10:\n",
    "\t\t\tprint(\"---------------------------------------------------------\")\n",
    "\t\t\tprint(\"You are in a tiny cave with a dark, forbidding staircase leading down.\")\n",
    "\t\t\tprint(\"There is a skeleton of a human male in one corner.\")\n",
    "\t\t\tcave_inp = raw_input(\"What do you do? \")\n",
    "\t\tif cave_inp.lower() == (\"descend staircase\"):\n",
    "\t\t\tloop = 11\n",
    "\t\tif cave_inp.lower() == (\"take skeleton\"):\n",
    "\t\t\tprint(\"---------------------------------------------------------\")\n",
    "\t\t\tprint(\"Why would you do that? Are you some sort of sicko?\")\n",
    "\t\t\tloop = 10\n",
    "\t\tif cave_inp.lower() == (\"smash skeleton\"):\n",
    "\t\t\tprint(\"---------------------------------------------------------\")\n",
    "\t\t\tprint(\"Sick person. Have some respect mate.\")\n",
    "\t\t\tloop = 10\n",
    "\t\tif cave_inp.lower() == (\"light up room\"):\n",
    "\t\t\tprint(\"---------------------------------------------------------\")\n",
    "\t\t\tprint(\"You would need a torch or lamp to do that.\")\n",
    "\t\t\tloop = 10\n",
    "\t\tif cave_inp.lower() == (\"break skeleton\"):\n",
    "\t\t\tprint(\"---------------------------------------------------------\")\n",
    "\t\t\tprint(\"I have two questions: Why and With What?\")\n",
    "\t\t\tloop = 10\n",
    "\t\tif cave_inp.lower() == (\"go down staircase\"):\n",
    "\t\t\tloop = 11\n",
    "\t\tif cave_inp.lower() == (\"scale staircase\"):\n",
    "\t\t\tloop = 11\n",
    "\t\tif cave_inp.lower() == (\"suicide\"):\n",
    "\t\t\tprint(\"---------------------------------------------------------\")\n",
    "\t\t\tprint(\"You throw yourself down the staircase as an attempt at suicide. You die.\")\n",
    "\t\t\tprint(\"---------------------------------------------------------\")\n",
    "\t\t\tsuicide_inp = raw_input(\"Do you want to continue? Y/N \")\n",
    "\t\t\tif suicide_inp.lower() == (\"n\"):\n",
    "\t\t\t\timport os\n",
    "\t\t\t\tquit(1)\n",
    "\t\t\tif suicide_inp.lower() == (\"y\"):\n",
    "\t\t\t\tloop = 3\n",
    "\t\telse:\n",
    "\t\t\tprint(\"---------------------------------------------------------\")\n",
    "\t\t\tloop = 10\n",
    "\n",
    "\n",
    "\t# End of game\n",
    "\twhile loop == 11:\n",
    "\t\tif loop == 11:\n",
    "\t\t\tprint(\"---------------------------------------------------------\")\n",
    "\t\t\tprint(\"You have entered a mud-floored room.\")\n",
    "\t\t\tprint(\"Lying half buried in the mud is an old trunk, bulging with jewels. There is an old trunk here, bulging with assorted jewels.\")\n",
    "\t\t\tlast_inp = raw_input(\"What do you do? \")\n",
    "\t\tif last_inp.lower() == (\"open trunk\"):\n",
    "\t\t\tprint(\"---------------------------------------------------------\")\n",
    "\t\t\tprint(\"You have found the Jade Statue and have completed your quest!\")\n",
    "\t\telse:\n",
    "\t\t\tprint(\"---------------------------------------------------------\")\n",
    "\t\t\tloop = 11\n",
    "\t\t\n",
    "\t\t# Exit loop at the end of game\n",
    "\t\texit_inp = raw_input(\"Do you want to continue? Y/N \")\n",
    "\t\tif exit_inp.lower() == (\"n\"):\n",
    "\t\t\timport os\n",
    "\t\t\tquit(1)\n",
    "\t\tif exit_inp.lower() == (\"y\"):\n",
    "\t\t\tloop = 3\n",
    "\n",
    "            "
   ]
  },
  {
   "cell_type": "code",
   "execution_count": null,
   "metadata": {
    "collapsed": true,
    "deletable": true,
    "editable": true
   },
   "outputs": [],
   "source": []
  }
 ],
 "metadata": {
  "kernelspec": {
   "display_name": "Python 2",
   "language": "python",
   "name": "python2"
  },
  "language_info": {
   "codemirror_mode": {
    "name": "ipython",
    "version": 2
   },
   "file_extension": ".py",
   "mimetype": "text/x-python",
   "name": "python",
   "nbconvert_exporter": "python",
   "pygments_lexer": "ipython2",
   "version": "2.7.10"
  }
 },
 "nbformat": 4,
 "nbformat_minor": 2
}
